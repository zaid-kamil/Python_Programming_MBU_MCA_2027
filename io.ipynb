{
 "cells": [
  {
   "cell_type": "markdown",
   "id": "8fd55503",
   "metadata": {},
   "source": [
    "### input in python\n",
    "`input()` function is used for taking user input"
   ]
  },
  {
   "cell_type": "code",
   "execution_count": 7,
   "id": "63531b77",
   "metadata": {},
   "outputs": [],
   "source": [
    "name = input()"
   ]
  },
  {
   "cell_type": "code",
   "execution_count": null,
   "id": "46bdaa09",
   "metadata": {},
   "outputs": [
    {
     "data": {
      "text/plain": [
       "'hello'"
      ]
     },
     "execution_count": 10,
     "metadata": {},
     "output_type": "execute_result"
    }
   ],
   "source": [
    "name = input()"
   ]
  },
  {
   "cell_type": "code",
   "execution_count": 12,
   "id": "edbd366c",
   "metadata": {},
   "outputs": [
    {
     "name": "stdout",
     "output_type": "stream",
     "text": [
      "Clark Smallville i dont know\n"
     ]
    }
   ],
   "source": [
    "name = input(\"enter name =>\")\n",
    "city = input(\"enter city =>\")\n",
    "addr = input(\"enter address =>\")\n",
    "print(name, city, addr)"
   ]
  },
  {
   "cell_type": "code",
   "execution_count": 22,
   "id": "9c2add6b",
   "metadata": {},
   "outputs": [
    {
     "name": "stdout",
     "output_type": "stream",
     "text": [
      "10 20 30\n"
     ]
    }
   ],
   "source": [
    "# static\n",
    "a = 10\n",
    "b = 20\n",
    "c = a + b\n",
    "print(a, b, c)"
   ]
  },
  {
   "cell_type": "code",
   "execution_count": 21,
   "id": "f04b3e96",
   "metadata": {},
   "outputs": [
    {
     "name": "stdout",
     "output_type": "stream",
     "text": [
      "10 20 1020\n"
     ]
    }
   ],
   "source": [
    "# dynamic\n",
    "a = input(\"Enter A:\")\n",
    "b = input(\"Enter B:\")\n",
    "c = a + b\n",
    "print(a, b, c)"
   ]
  },
  {
   "cell_type": "code",
   "execution_count": 25,
   "id": "f2991969",
   "metadata": {},
   "outputs": [
    {
     "name": "stdout",
     "output_type": "stream",
     "text": [
      "10 20 30\n"
     ]
    }
   ],
   "source": [
    "# dynamic input -> typecasted\n",
    "a = int(input(\"Enter A:\"))\n",
    "b = int(input(\"Enter B:\"))\n",
    "c = a + b\n",
    "print(a, b, c)"
   ]
  },
  {
   "cell_type": "code",
   "execution_count": 26,
   "id": "0be8d68c",
   "metadata": {},
   "outputs": [
    {
     "name": "stdout",
     "output_type": "stream",
     "text": [
      "5.5\n",
      "11.0\n",
      "34.54\n",
      "94.985\n"
     ]
    }
   ],
   "source": [
    "radius = float(input(\"enter radius of circle\"))\n",
    "diameter = radius * 2\n",
    "circumference = 2 * 3.14 * radius\n",
    "area = 3.14 * radius ** 2\n",
    "\n",
    "print(radius)\n",
    "print(diameter)\n",
    "print(circumference)\n",
    "print(area)"
   ]
  },
  {
   "cell_type": "code",
   "execution_count": null,
   "id": "c465ced5",
   "metadata": {},
   "outputs": [],
   "source": [
    "# simple interest\n",
    "p = int(input(\"enter principle amount \"))\n",
    "r = float(input(\"enter rate of interest \"))\n",
    "t = int(input(\"enter time period in years \"))\n",
    "si = p*r*t/100\n",
    "print(p)\n",
    "print(r)\n",
    "print(t)\n",
    "print(si)"
   ]
  },
  {
   "cell_type": "code",
   "execution_count": 29,
   "id": "8b722a6b",
   "metadata": {},
   "outputs": [
    {
     "name": "stdout",
     "output_type": "stream",
     "text": [
      "180.06016000000002\n"
     ]
    }
   ],
   "source": [
    "pi = 3.14\n",
    "r = float(input(\"enter radius of cylinder:\"))\n",
    "h = float(input(\"height of cylinder:\"))\n",
    "v = pi*r**2*h # volume of cylinder\n",
    "print(v)"
   ]
  },
  {
   "cell_type": "markdown",
   "id": "548b2d29",
   "metadata": {},
   "source": [
    "#### formatting the output"
   ]
  },
  {
   "cell_type": "code",
   "execution_count": 35,
   "id": "a2b30dc1",
   "metadata": {},
   "outputs": [
    {
     "name": "stdout",
     "output_type": "stream",
     "text": [
      "this is an example📦📦\n",
      "one two three\n",
      "1 2 3 9\n",
      "35\n",
      "apple|||banana|||oranges\n",
      "apple banana oranges\n",
      "👍🔥🙏👏🤺🤣😍\n"
     ]
    }
   ],
   "source": [
    "print(\"this is an example📦📦\")         # displaying a message\n",
    "print(\"one\", \"two\", \"three\")        # display multiple data value\n",
    "print(\"1\", \"2\", \"3\", 4 + 5)         # displaying multiple data and expression\n",
    "print(10 * 3 + 5)                   # displaying result of expression\n",
    "print(\"apple\", \"banana\", \"oranges\", sep=\"|||\") # displaying multiple data with seperator\n",
    "print(\"apple\", \"banana\", \"oranges\")\n",
    "print(\"👍🔥🙏👏🤺🤣😍\")"
   ]
  },
  {
   "cell_type": "code",
   "execution_count": null,
   "id": "39a7ecf7",
   "metadata": {},
   "outputs": [],
   "source": []
  }
 ],
 "metadata": {
  "kernelspec": {
   "display_name": "python_things",
   "language": "python",
   "name": "python3"
  },
  "language_info": {
   "codemirror_mode": {
    "name": "ipython",
    "version": 3
   },
   "file_extension": ".py",
   "mimetype": "text/x-python",
   "name": "python",
   "nbconvert_exporter": "python",
   "pygments_lexer": "ipython3",
   "version": "3.13.1"
  }
 },
 "nbformat": 4,
 "nbformat_minor": 5
}

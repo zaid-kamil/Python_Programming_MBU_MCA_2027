{
 "cells": [
  {
   "cell_type": "markdown",
   "id": "36a86030",
   "metadata": {},
   "source": [
    "# List methods - 11 methods\n",
    "- Adding elements\n",
    "    1. `append()` -> add one element to the end of the list\n",
    "    2. `insert()` -> add one element to a specific position\n",
    "    3. `extend()` -> append multiple items in a list\n",
    "- Removing elements\n",
    "    1. `remove()` -> remove the first occurrence of a value\n",
    "    2. `pop()` -> remove and return an element from an index\n",
    "    3. `clear()` -> remove all elements from the list\n",
    "- Utility methods\n",
    "    1. `count()` -> count occurrence of a element\n",
    "    2. `index()` -> find index of a element (first only)\n",
    "    3. `sort()` -> sort the list\n",
    "    4. `reverse()` -> reverse the list\n",
    "    5. `copy()` -> return a shallow copy of the list"
   ]
  },
  {
   "cell_type": "code",
   "execution_count": null,
   "id": "307b9c4e",
   "metadata": {},
   "outputs": [],
   "source": [
    "books = ['Hero of Ages', 'Well of Acsension',\n",
    "         'Warbreaker','Nightblood','The Final Empire',\n",
    "         'The way of kinds', 'Oathbringer',\n",
    "         'Wind and Truth', 'Harry potter and goblet of fire',\n",
    "         'New Moon','King of Thorns']"
   ]
  },
  {
   "cell_type": "code",
   "execution_count": null,
   "id": "bba9c706",
   "metadata": {},
   "outputs": [],
   "source": [
    "# len function checks the size of iterable|\n",
    "print(\"size of book list\", len(books))"
   ]
  },
  {
   "cell_type": "code",
   "execution_count": null,
   "id": "df8e82a8",
   "metadata": {},
   "outputs": [],
   "source": [
    "books.remove(\"New Moon\")\n",
    "print(books)"
   ]
  },
  {
   "cell_type": "code",
   "execution_count": null,
   "id": "cf92f10c",
   "metadata": {},
   "outputs": [],
   "source": [
    "# validation based removal\n",
    "if \"Oathbringer\" in books:\n",
    "    books.remove(\"Oathbringer\")\n",
    "print(books)"
   ]
  },
  {
   "cell_type": "code",
   "execution_count": null,
   "id": "501b7a1c",
   "metadata": {},
   "outputs": [],
   "source": [
    "print(books)"
   ]
  },
  {
   "cell_type": "code",
   "execution_count": null,
   "id": "732f1e51",
   "metadata": {},
   "outputs": [],
   "source": [
    "books.pop(1)"
   ]
  },
  {
   "cell_type": "code",
   "execution_count": null,
   "id": "1b9d3e2e",
   "metadata": {},
   "outputs": [],
   "source": [
    "print(books)\n",
    "print(len(books))"
   ]
  },
  {
   "cell_type": "code",
   "execution_count": null,
   "id": "48d61b35",
   "metadata": {},
   "outputs": [],
   "source": [
    "# pop() without any index will remove the last element\n",
    "books.pop()"
   ]
  },
  {
   "cell_type": "code",
   "execution_count": null,
   "id": "2ceca633",
   "metadata": {},
   "outputs": [],
   "source": [
    "books.clear()\n",
    "print(books)"
   ]
  },
  {
   "cell_type": "code",
   "execution_count": null,
   "id": "034b17e4",
   "metadata": {},
   "outputs": [],
   "source": [
    "languages = ['C','Python','Kotlin', 'Java',\n",
    "             'Dart', 'Go', 'C++', 'C#',\n",
    "             'Html', 'Javascript', 'Scala',\n",
    "             'Rust', 'Mojo', 'Assembly']\n",
    "\n",
    "numbers = [12, 56, 23, 67, 13,\n",
    "           23, 12, 56, 23, 56,\n",
    "           12, 34, 23, 23, 12,\n",
    "           34, 34, 23, 53, 92]\n",
    "\n",
    "data = [1, 'Apple', 2, 'Avocado', 3, 'Apricot']"
   ]
  },
  {
   "cell_type": "code",
   "execution_count": null,
   "id": "6d2ed1be",
   "metadata": {},
   "outputs": [],
   "source": [
    "numbers.count(12) # counts how many times 12 occurs in list"
   ]
  },
  {
   "cell_type": "code",
   "execution_count": null,
   "id": "b18911e0",
   "metadata": {},
   "outputs": [],
   "source": [
    "print(numbers.count(1))\n",
    "print(numbers.count(23))\n",
    "print(numbers.count(56))"
   ]
  },
  {
   "cell_type": "code",
   "execution_count": null,
   "id": "9a7c1b8f",
   "metadata": {},
   "outputs": [],
   "source": [
    "languages.index('C#') # 7th index in my list"
   ]
  },
  {
   "cell_type": "code",
   "execution_count": null,
   "id": "7f476155",
   "metadata": {},
   "outputs": [],
   "source": [
    "print(languages.index(\"C\"))\n",
    "print(languages.index(\"Java\"))\n",
    "print(languages.index(\"Python\"))\n",
    "# print(languages.index(\"Lisp\")) # will give error"
   ]
  },
  {
   "cell_type": "code",
   "execution_count": null,
   "id": "e14f42a6",
   "metadata": {},
   "outputs": [],
   "source": [
    "print(\"Original\", languages)\n",
    "languages.sort() # sort inplace\n",
    "print(\"Sorted\", languages)\n",
    "languages.sort(reverse=True) # sort in reverse\n",
    "print(\"Sorted in reverse\", languages)"
   ]
  },
  {
   "cell_type": "code",
   "execution_count": null,
   "id": "e55ddf0b",
   "metadata": {},
   "outputs": [],
   "source": [
    "print(\"Original\", data)\n",
    "data.reverse() # reverse the list\n",
    "print(\"Reversed\", data)"
   ]
  },
  {
   "cell_type": "code",
   "execution_count": null,
   "id": "6d07b7d5",
   "metadata": {},
   "outputs": [],
   "source": [
    "numbers.sort()\n",
    "print(numbers)"
   ]
  },
  {
   "cell_type": "code",
   "execution_count": null,
   "id": "f2da8f09",
   "metadata": {},
   "outputs": [],
   "source": [
    "# data.sort()\n",
    "# print(data)"
   ]
  },
  {
   "cell_type": "code",
   "execution_count": null,
   "id": "8aa293fc",
   "metadata": {},
   "outputs": [],
   "source": [
    "x = [1,2,3,4]\n",
    "y = x  # deep copy\n",
    "z = x.copy()  # shallow copy\n",
    "print(x, y, z, sep='\\n')\n",
    "x.append(10)\n",
    "y.pop()\n",
    "z.append(10)\n",
    "z.append(20)\n",
    "print(x, y, z, sep='\\n')\n",
    "\n",
    "# i will explain it later"
   ]
  },
  {
   "cell_type": "markdown",
   "id": "73b71e84",
   "metadata": {},
   "source": [
    "# Nested List\n",
    "list within a list"
   ]
  },
  {
   "cell_type": "code",
   "execution_count": null,
   "id": "3479bb3c",
   "metadata": {},
   "outputs": [],
   "source": [
    "x = []                  # empty list -> 1 Dimension\n",
    "x2 = [[]]                # empty list -> 2 Dimension\n",
    "print(x)\n",
    "print(x2)"
   ]
  },
  {
   "cell_type": "code",
   "execution_count": null,
   "id": "a5e629c6",
   "metadata": {},
   "outputs": [],
   "source": [
    "x.append(1)\n",
    "x.append(2)\n",
    "x.append(3)\n",
    "print(x)"
   ]
  },
  {
   "cell_type": "code",
   "execution_count": null,
   "id": "ea30f0c0",
   "metadata": {},
   "outputs": [],
   "source": [
    "x2.append(1)\n",
    "x2.append([1,2,3])\n",
    "x2.append([4,5,6])\n",
    "print(x2)"
   ]
  },
  {
   "cell_type": "code",
   "execution_count": null,
   "id": "eb4c2288",
   "metadata": {},
   "outputs": [],
   "source": [
    "items = [\n",
    "    ['red', 'green', 'blue'],               # per row -> 3 items\n",
    "    ['apple','gauva', 'blueberry'],\n",
    "    [150, 100, 300]\n",
    "]\n",
    "print(items)\n",
    "print(\"Size of list\", len(items))\n",
    "print(\"Size of list at index 0 is\", len(items[0]),\"=>\", items[0])\n",
    "print(\"Size of list at index 1 is\", len(items[1]),\"=>\", items[1])\n",
    "print(\"Size of list at index 2 is\", len(items[2]),\"=>\", items[2])\n",
    "print(\"Element 0 as List 0 is\", items[0][0])\n",
    "print(\"Element 2 as List 0 is\", items[0][2])\n",
    "print(\"Element 0 as List 1 is\", items[1][0])\n",
    "print(\"Element 1 as List 1 is\", items[1][1])"
   ]
  },
  {
   "cell_type": "code",
   "execution_count": null,
   "id": "15b49276",
   "metadata": {},
   "outputs": [],
   "source": [
    "matrix = [\n",
    "    [12,3,5,6],\n",
    "    [53,34,25,16],\n",
    "    [42,33,25,36],\n",
    "]\n",
    "print(matrix)"
   ]
  },
  {
   "cell_type": "code",
   "execution_count": null,
   "id": "58b29c21",
   "metadata": {},
   "outputs": [],
   "source": [
    "# not good\n",
    "print(matrix[0])\n",
    "print(matrix[1])\n",
    "print(matrix[2])"
   ]
  },
  {
   "cell_type": "code",
   "execution_count": null,
   "id": "b2bf6b23",
   "metadata": {},
   "outputs": [],
   "source": [
    "# good\n",
    "for row in matrix:\n",
    "    print(row)"
   ]
  },
  {
   "cell_type": "code",
   "execution_count": null,
   "id": "a401514a",
   "metadata": {},
   "outputs": [],
   "source": [
    "# nested loop for nested list\n",
    "for row in matrix:\n",
    "    for val in row:\n",
    "        print(val, end=' ')"
   ]
  },
  {
   "cell_type": "code",
   "execution_count": null,
   "id": "b7fd422a",
   "metadata": {},
   "outputs": [],
   "source": [
    "# nested loop for nested list\n",
    "for row in matrix:\n",
    "    for val in row:\n",
    "        print(val, end=' ')\n",
    "    print() # change line after each row"
   ]
  },
  {
   "cell_type": "markdown",
   "id": "b6bfbe6c",
   "metadata": {},
   "source": [
    "### wap to print the sum of all the values in matrix"
   ]
  },
  {
   "cell_type": "code",
   "execution_count": null,
   "id": "7cf7900e",
   "metadata": {},
   "outputs": [],
   "source": [
    "\n",
    "total = 0\n",
    "for row in matrix:\n",
    "    for val in row:\n",
    "        total += val\n",
    "print(total)"
   ]
  },
  {
   "cell_type": "markdown",
   "id": "68b80382",
   "metadata": {},
   "source": [
    "### wap to print the product of all the values in matrix"
   ]
  },
  {
   "cell_type": "code",
   "execution_count": null,
   "id": "f7a708dc",
   "metadata": {},
   "outputs": [],
   "source": [
    "total = 1\n",
    "for row in matrix:\n",
    "    for val in row:\n",
    "        total *= val\n",
    "print(total)"
   ]
  },
  {
   "cell_type": "markdown",
   "id": "be245e50",
   "metadata": {},
   "source": [
    "### Wap to print row wise sum of matrix"
   ]
  },
  {
   "cell_type": "code",
   "execution_count": null,
   "id": "57858cc1",
   "metadata": {},
   "outputs": [],
   "source": [
    "for row in matrix:\n",
    "    total = 0\n",
    "    for value in row:\n",
    "        total += value\n",
    "    print(row, '=>', total)"
   ]
  },
  {
   "cell_type": "markdown",
   "id": "ddbe8159",
   "metadata": {},
   "source": [
    "### Wap tp print row wise average of the values"
   ]
  },
  {
   "cell_type": "code",
   "execution_count": null,
   "id": "bf5f4541",
   "metadata": {},
   "outputs": [],
   "source": [
    "for row in matrix:\n",
    "    total = 0\n",
    "    for value in row:\n",
    "        total += value\n",
    "    avg = round(total/len(row),1)\n",
    "    print(row, '=>', avg)"
   ]
  },
  {
   "cell_type": "markdown",
   "id": "8850670b",
   "metadata": {},
   "source": [
    "### Wap to print column wise sum of matrix"
   ]
  },
  {
   "cell_type": "code",
   "execution_count": null,
   "id": "26c369d9",
   "metadata": {},
   "outputs": [],
   "source": [
    "size = len(matrix[0])\n",
    "for c in range(size):\n",
    "    total = 0\n",
    "    for r in range(len(matrix)):\n",
    "        total += matrix[r][c]\n",
    "    print(f\"column {c} => {total}\")"
   ]
  },
  {
   "cell_type": "markdown",
   "id": "d7c601f4",
   "metadata": {},
   "source": [
    "### wap to print the lower bound triangle of a matrix"
   ]
  },
  {
   "cell_type": "code",
   "execution_count": null,
   "id": "09df85aa",
   "metadata": {},
   "outputs": [],
   "source": [
    "mat2  = [\n",
    "    [1,2,3,4],\n",
    "    [5,6,7,8],\n",
    "    [9,10,11,12],\n",
    "    [13,14,15,16],\n",
    "]\n",
    "for r in range(len(mat2)):\n",
    "    for c in range(len(mat2[0])):\n",
    "        if (c <= r):\n",
    "            print(mat2[r][c], end = \" \")\n",
    "    print()"
   ]
  },
  {
   "cell_type": "markdown",
   "id": "23c697b9",
   "metadata": {},
   "source": [
    "# Dictionary\n",
    "2 ways to store data in python\n",
    "1. List -> indexed based\n",
    "2. Dictionary -> key value pair"
   ]
  },
  {
   "cell_type": "markdown",
   "id": "992b5cb3",
   "metadata": {},
   "source": [
    "zaid\n",
    "zaid@gmail.com\n",
    "tirupati\n",
    "lucknow\n",
    "True\n",
    "False\n",
    "Yes\n",
    "No\n",
    "\n",
    "```\n",
    "data = [\n",
    "\"zaid\",\n",
    "\"zaid@gmail.com\",\n",
    "\"tirupati\",\n",
    "\"lucknow\",\n",
    "\"True\",\n",
    "\"False\",\n",
    "\"Yes\",\n",
    "\"No\"\n",
    "]\n",
    "```"
   ]
  },
  {
   "cell_type": "markdown",
   "id": "e16b901d",
   "metadata": {},
   "source": [
    "### normal data\n",
    "name = Zaid\n",
    "email = zaid@gmail.com\n",
    "city = tirupati\n",
    "hometown = lucknow\n",
    "is_manager = True\n",
    "is_faculty = False\n",
    "likes_coding = Yes\n",
    "likes_java = No\n",
    "```\n",
    "data = {\n",
    "    'name' : 'Zaid',\n",
    "    'email' : 'zaid@gmail.com',\n",
    "    'city' : 'tirupati',\n",
    "    'hometown' : 'lucknow',\n",
    "    'is_manager' : True,\n",
    "    'is_faculty' : False,\n",
    "    'likes_coding' : Yes,\n",
    "    'likes_java' : No\n",
    "}\n",
    "```"
   ]
  },
  {
   "cell_type": "code",
   "execution_count": null,
   "id": "0127d596",
   "metadata": {},
   "outputs": [],
   "source": [
    "# creating a dictionary\n",
    "d = {} # empty dict\n",
    "print(d)\n",
    "print(type(d))\n",
    "\n",
    "d2 = dict() # empty dict\n",
    "print(d2)\n",
    "print(type(d2))"
   ]
  },
  {
   "cell_type": "code",
   "execution_count": null,
   "id": "b1cceddf",
   "metadata": {},
   "outputs": [],
   "source": [
    "d3 = {\n",
    "    'color': 'orange',\n",
    "    'shape' : 'Circle',\n",
    "    'size' : '2 Meter',\n",
    "    'material' : 'Plastic'\n",
    "}\n",
    "print(d3)"
   ]
  },
  {
   "cell_type": "code",
   "execution_count": null,
   "id": "2bba806f",
   "metadata": {},
   "outputs": [],
   "source": [
    "info = {\n",
    "    'fact1': 'All keys in a dictionary should be unique',\n",
    "    'fact2': 'Keys are immutable so only strings and tuples are allowed as keys',\n",
    "    'fact3': 'Value of a key can be of any type -> str, number, list, dict'\n",
    "}\n",
    "print(info)"
   ]
  },
  {
   "cell_type": "code",
   "execution_count": null,
   "id": "4b38a9e8",
   "metadata": {},
   "outputs": [],
   "source": [
    "product = {\n",
    "    'name' : 'Mobile',\n",
    "    'price': 79999,\n",
    "    'features': {'camera':'48 MP', 'os':18, 'Ram': '8 gb'},\n",
    "    'brand': 'Apple',\n",
    "    'model': 'Iphone 18',\n",
    "    'popular' : True,\n",
    "    'value for money': False,\n",
    "    'colors' : ['Orange','Black','Blue','White']\n",
    "}\n",
    "print(product)"
   ]
  },
  {
   "cell_type": "markdown",
   "id": "9ba68cef",
   "metadata": {},
   "source": [
    "getting data from dictionary"
   ]
  },
  {
   "cell_type": "code",
   "execution_count": null,
   "id": "ea0e0acf",
   "metadata": {},
   "outputs": [],
   "source": [
    "product['price']"
   ]
  },
  {
   "cell_type": "code",
   "execution_count": null,
   "id": "59b01c8b",
   "metadata": {},
   "outputs": [],
   "source": [
    "product['discount'] # error"
   ]
  },
  {
   "cell_type": "code",
   "execution_count": null,
   "id": "b8e57a6b",
   "metadata": {},
   "outputs": [],
   "source": [
    "product['features']"
   ]
  },
  {
   "cell_type": "code",
   "execution_count": null,
   "id": "cd3abcff",
   "metadata": {},
   "outputs": [],
   "source": [
    "product.values() # all the values from dict"
   ]
  },
  {
   "cell_type": "code",
   "execution_count": null,
   "id": "9210dd7c",
   "metadata": {},
   "outputs": [],
   "source": [
    "product.keys() # all the key"
   ]
  },
  {
   "cell_type": "code",
   "execution_count": null,
   "id": "e674df36",
   "metadata": {},
   "outputs": [],
   "source": [
    "product.items()"
   ]
  },
  {
   "cell_type": "code",
   "execution_count": null,
   "id": "60859875",
   "metadata": {},
   "outputs": [],
   "source": [
    "print(product.get('model'))\n",
    "print(product.get('features'))\n",
    "print(product.get('price'))\n",
    "print(product.get('discount')) # this is not in dict but error will not come\n",
    "print(product.get('feature'))"
   ]
  },
  {
   "cell_type": "code",
   "execution_count": null,
   "id": "d449e962",
   "metadata": {},
   "outputs": [],
   "source": [
    "# adding data to dictionary\n",
    "d = {}\n",
    "d['name'] = \"William Shakespeare\"\n",
    "print(d)\n",
    "d['books'] = ['Julias Ceaser','Merchant of venice']\n",
    "print(d)\n",
    "d['born'] = \"April 1564\"\n",
    "d['died'] = 'April 1616'\n",
    "d['Overview'] = '''A enlish playwright, poet and actor. \n",
    "\"Regarded as the greatest writer in english.'''\n",
    "print(d)"
   ]
  },
  {
   "cell_type": "markdown",
   "id": "918a9967",
   "metadata": {},
   "source": [
    "a simple contact book using temp storage (dictionary)"
   ]
  },
  {
   "cell_type": "code",
   "execution_count": null,
   "id": "e6160069",
   "metadata": {},
   "outputs": [
    {
     "name": "stdout",
     "output_type": "stream",
     "text": [
      "Contact Book\n",
      "Search contact\n",
      "🔎 Contact found\n",
      "emergency 🤙 108\n",
      "Search contact\n",
      "💀 Contact not found\n",
      "✅ Success! contact added\n",
      "👋 Bye\n"
     ]
    }
   ],
   "source": [
    "contacts = {\n",
    "    'emergency': 108\n",
    "}\n",
    "print(\"Contact Book\")\n",
    "while True:                             # infinite loop\n",
    "    print(\"Search contact\")\n",
    "    name = input(\"Name 👉 \")\n",
    "    if name in contacts:                # search dict for key\n",
    "        print(\"🔎 Contact found\")\n",
    "        print(name, '🤙', contacts.get(name))   # get the number\n",
    "    else:\n",
    "        print(\"💀 Contact not found\")\n",
    "        ch = input(\"Do you want to add it? Y/n: \")\n",
    "        if ch =='Y' or ch=='y':\n",
    "            num = input(f\"Enter {name}'s number: \")\n",
    "            contacts[name] = num                    # add new number\n",
    "            print(\"✅ Success! contact added\")\n",
    "        else:\n",
    "            print(\"Okay 😕\")   \n",
    "    quit = input(\"Do you want to continue? Y/n\")\n",
    "    if quit != 'Y' or quit !='y': \n",
    "        print(\"👋 Bye\") \n",
    "        break\n",
    "# the end  \n"
   ]
  },
  {
   "cell_type": "code",
   "execution_count": null,
   "id": "1f7e3290",
   "metadata": {},
   "outputs": [],
   "source": []
  }
 ],
 "metadata": {
  "kernelspec": {
   "display_name": "python_things",
   "language": "python",
   "name": "python3"
  },
  "language_info": {
   "codemirror_mode": {
    "name": "ipython",
    "version": 3
   },
   "file_extension": ".py",
   "mimetype": "text/x-python",
   "name": "python",
   "nbconvert_exporter": "python",
   "pygments_lexer": "ipython3",
   "version": "3.13.1"
  }
 },
 "nbformat": 4,
 "nbformat_minor": 5
}

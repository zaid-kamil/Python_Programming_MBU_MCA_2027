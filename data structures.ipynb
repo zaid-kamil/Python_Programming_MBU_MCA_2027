{
 "cells": [
  {
   "cell_type": "markdown",
   "id": "36a86030",
   "metadata": {},
   "source": [
    "# List methods - 11 methods\n",
    "- Adding elements\n",
    "    1. `append()` -> add one element to the end of the list\n",
    "    2. `insert()` -> add one element to a specific position\n",
    "    3. `extend()` -> append multiple items in a list\n",
    "- Removing elements\n",
    "    1. `remove()` -> remove the first occurrence of a value\n",
    "    2. `pop()` -> remove and return an element from an index\n",
    "    3. `clear()` -> remove all elements from the list\n",
    "- Utility methods\n",
    "    1. `count()` -> count occurrence of a element\n",
    "    2. `index()` -> find index of a element (first only)\n",
    "    3. `sort()` -> sort the list\n",
    "    4. `reverse()` -> reverse the list\n",
    "    5. `copy()` -> return a shallow copy of the list"
   ]
  },
  {
   "cell_type": "code",
   "execution_count": null,
   "id": "307b9c4e",
   "metadata": {},
   "outputs": [],
   "source": [
    "books = ['Hero of Ages', 'Well of Acsension',\n",
    "         'Warbreaker','Nightblood','The Final Empire',\n",
    "         'The way of kinds', 'Oathbringer',\n",
    "         'Wind and Truth', 'Harry potter and goblet of fire',\n",
    "         'New Moon','King of Thorns']"
   ]
  },
  {
   "cell_type": "code",
   "execution_count": null,
   "id": "bba9c706",
   "metadata": {},
   "outputs": [],
   "source": [
    "# len function checks the size of iterable|\n",
    "print(\"size of book list\", len(books))"
   ]
  },
  {
   "cell_type": "code",
   "execution_count": null,
   "id": "df8e82a8",
   "metadata": {},
   "outputs": [],
   "source": [
    "books.remove(\"New Moon\")\n",
    "print(books)"
   ]
  },
  {
   "cell_type": "code",
   "execution_count": null,
   "id": "cf92f10c",
   "metadata": {},
   "outputs": [],
   "source": [
    "# validation based removal\n",
    "if \"Oathbringer\" in books:\n",
    "    books.remove(\"Oathbringer\")\n",
    "print(books)"
   ]
  },
  {
   "cell_type": "code",
   "execution_count": null,
   "id": "501b7a1c",
   "metadata": {},
   "outputs": [],
   "source": [
    "print(books)"
   ]
  },
  {
   "cell_type": "code",
   "execution_count": null,
   "id": "732f1e51",
   "metadata": {},
   "outputs": [],
   "source": [
    "books.pop(1)"
   ]
  },
  {
   "cell_type": "code",
   "execution_count": null,
   "id": "1b9d3e2e",
   "metadata": {},
   "outputs": [],
   "source": [
    "print(books)\n",
    "print(len(books))"
   ]
  },
  {
   "cell_type": "code",
   "execution_count": null,
   "id": "48d61b35",
   "metadata": {},
   "outputs": [],
   "source": [
    "# pop() without any index will remove the last element\n",
    "books.pop()"
   ]
  },
  {
   "cell_type": "code",
   "execution_count": null,
   "id": "2ceca633",
   "metadata": {},
   "outputs": [],
   "source": [
    "books.clear()\n",
    "print(books)"
   ]
  },
  {
   "cell_type": "code",
   "execution_count": null,
   "id": "034b17e4",
   "metadata": {},
   "outputs": [],
   "source": [
    "languages = ['C','Python','Kotlin', 'Java',\n",
    "             'Dart', 'Go', 'C++', 'C#',\n",
    "             'Html', 'Javascript', 'Scala',\n",
    "             'Rust', 'Mojo', 'Assembly']\n",
    "\n",
    "numbers = [12, 56, 23, 67, 13,\n",
    "           23, 12, 56, 23, 56,\n",
    "           12, 34, 23, 23, 12,\n",
    "           34, 34, 23, 53, 92]\n",
    "\n",
    "data = [1, 'Apple', 2, 'Avocado', 3, 'Apricot']"
   ]
  },
  {
   "cell_type": "code",
   "execution_count": null,
   "id": "6d2ed1be",
   "metadata": {},
   "outputs": [],
   "source": [
    "numbers.count(12) # counts how many times 12 occurs in list"
   ]
  },
  {
   "cell_type": "code",
   "execution_count": null,
   "id": "b18911e0",
   "metadata": {},
   "outputs": [],
   "source": [
    "print(numbers.count(1))\n",
    "print(numbers.count(23))\n",
    "print(numbers.count(56))"
   ]
  },
  {
   "cell_type": "code",
   "execution_count": null,
   "id": "9a7c1b8f",
   "metadata": {},
   "outputs": [
    {
     "data": {
      "text/plain": [
       "7"
      ]
     },
     "execution_count": 18,
     "metadata": {},
     "output_type": "execute_result"
    }
   ],
   "source": [
    "languages.index('C#') # 7th index in my list"
   ]
  },
  {
   "cell_type": "code",
   "execution_count": 19,
   "id": "7f476155",
   "metadata": {},
   "outputs": [
    {
     "name": "stdout",
     "output_type": "stream",
     "text": [
      "0\n",
      "3\n",
      "1\n"
     ]
    }
   ],
   "source": [
    "print(languages.index(\"C\"))\n",
    "print(languages.index(\"Java\"))\n",
    "print(languages.index(\"Python\"))\n",
    "# print(languages.index(\"Lisp\")) # will give error"
   ]
  },
  {
   "cell_type": "code",
   "execution_count": 21,
   "id": "e14f42a6",
   "metadata": {},
   "outputs": [
    {
     "name": "stdout",
     "output_type": "stream",
     "text": [
      "Original ['Assembly', 'C', 'C#', 'C++', 'Dart', 'Go', 'Html', 'Java', 'Javascript', 'Kotlin', 'Mojo', 'Python', 'Rust', 'Scala']\n",
      "Sorted ['Assembly', 'C', 'C#', 'C++', 'Dart', 'Go', 'Html', 'Java', 'Javascript', 'Kotlin', 'Mojo', 'Python', 'Rust', 'Scala']\n",
      "Sorted in reverse ['Scala', 'Rust', 'Python', 'Mojo', 'Kotlin', 'Javascript', 'Java', 'Html', 'Go', 'Dart', 'C++', 'C#', 'C', 'Assembly']\n"
     ]
    }
   ],
   "source": [
    "print(\"Original\", languages)\n",
    "languages.sort() # sort inplace\n",
    "print(\"Sorted\", languages)\n",
    "languages.sort(reverse=True) # sort in reverse\n",
    "print(\"Sorted in reverse\", languages)"
   ]
  },
  {
   "cell_type": "code",
   "execution_count": 22,
   "id": "e55ddf0b",
   "metadata": {},
   "outputs": [
    {
     "name": "stdout",
     "output_type": "stream",
     "text": [
      "Original [1, 'Apple', 2, 'Avocado', 3, 'Apricot']\n",
      "Reversed ['Apricot', 3, 'Avocado', 2, 'Apple', 1]\n"
     ]
    }
   ],
   "source": [
    "print(\"Original\", data)\n",
    "data.reverse() # reverse the list\n",
    "print(\"Reversed\", data)"
   ]
  },
  {
   "cell_type": "code",
   "execution_count": 23,
   "id": "6d07b7d5",
   "metadata": {},
   "outputs": [
    {
     "name": "stdout",
     "output_type": "stream",
     "text": [
      "[12, 12, 12, 12, 13, 23, 23, 23, 23, 23, 23, 34, 34, 34, 53, 56, 56, 56, 67, 92]\n"
     ]
    }
   ],
   "source": [
    "numbers.sort()\n",
    "print(numbers)"
   ]
  },
  {
   "cell_type": "code",
   "execution_count": 25,
   "id": "f2da8f09",
   "metadata": {},
   "outputs": [],
   "source": [
    "# data.sort()\n",
    "# print(data)"
   ]
  },
  {
   "cell_type": "code",
   "execution_count": 27,
   "id": "8aa293fc",
   "metadata": {},
   "outputs": [
    {
     "name": "stdout",
     "output_type": "stream",
     "text": [
      "[1, 2, 3, 4]\n",
      "[1, 2, 3, 4]\n",
      "[1, 2, 3, 4]\n",
      "[1, 2, 3, 4]\n",
      "[1, 2, 3, 4]\n",
      "[1, 2, 3, 4, 10, 20]\n"
     ]
    }
   ],
   "source": [
    "x = [1,2,3,4]\n",
    "y = x  # deep copy\n",
    "z = x.copy()  # shallow copy\n",
    "print(x, y, z, sep='\\n')\n",
    "x.append(10)\n",
    "y.pop()\n",
    "z.append(10)\n",
    "z.append(20)\n",
    "print(x, y, z, sep='\\n')"
   ]
  },
  {
   "cell_type": "code",
   "execution_count": null,
   "id": "3479bb3c",
   "metadata": {},
   "outputs": [],
   "source": []
  }
 ],
 "metadata": {
  "kernelspec": {
   "display_name": "python_things",
   "language": "python",
   "name": "python3"
  },
  "language_info": {
   "codemirror_mode": {
    "name": "ipython",
    "version": 3
   },
   "file_extension": ".py",
   "mimetype": "text/x-python",
   "name": "python",
   "nbconvert_exporter": "python",
   "pygments_lexer": "ipython3",
   "version": "3.13.1"
  }
 },
 "nbformat": 4,
 "nbformat_minor": 5
}

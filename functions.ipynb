{
 "cells": [
  {
   "cell_type": "markdown",
   "id": "d68bf5e3",
   "metadata": {},
   "source": [
    "### non returning non parameterized functions"
   ]
  },
  {
   "cell_type": "code",
   "execution_count": null,
   "id": "935c4d6e",
   "metadata": {},
   "outputs": [],
   "source": [
    "# defination\n",
    "def greeting():\n",
    "    print(\"🌟\"*5)\n",
    "    print(\"Good Morning\")\n",
    "    print(\"🌟\"*5)\n",
    "# call\n",
    "greeting()   # no parameter and no return value"
   ]
  },
  {
   "cell_type": "markdown",
   "id": "758cd686",
   "metadata": {},
   "source": [
    "### Value returning functions"
   ]
  },
  {
   "cell_type": "code",
   "execution_count": null,
   "id": "52620002",
   "metadata": {},
   "outputs": [],
   "source": [
    "# non-parameterized value returning function\n",
    "def dice_roll():\n",
    "    import random\n",
    "    out = {1:'👍',2:'✌️', 3: '👌', 4: '🍀', 5: '✋', 6: '👑'}\n",
    "    value = random.randint(1, 6) # select a random num between 1 - 6\n",
    "    return out.get(value) # return the icon from the dict using value\n",
    "# calls\n",
    "print(dice_roll())\n",
    "print(dice_roll())\n",
    "print(dice_roll())\n",
    "print(dice_roll())"
   ]
  },
  {
   "cell_type": "code",
   "execution_count": null,
   "id": "d328c790",
   "metadata": {},
   "outputs": [],
   "source": [
    "# parameterized value returning function\n",
    "def is_valid_password(pwd):\n",
    "    if len(pwd) < 8: return False\n",
    "    if not pwd.isalnum(): return False\n",
    "    return True\n",
    "\n",
    "print(is_valid_password(\"hello\"))\n",
    "print(is_valid_password(\"helloWorld\"))\n",
    "print(is_valid_password(\"helloWorld10\"))\n",
    "print(is_valid_password(\"3120@1233\"))\n"
   ]
  },
  {
   "cell_type": "code",
   "execution_count": null,
   "id": "8a9b1221",
   "metadata": {},
   "outputs": [],
   "source": [
    "# Proper function syntax in python\n",
    "def area(length: int,breadth: int)-> int:\n",
    "    return length * breadth\n",
    "\n",
    "l = 12\n",
    "b = 15\n",
    "a = area(l, b)\n",
    "print(f'area = {a}')"
   ]
  },
  {
   "cell_type": "code",
   "execution_count": null,
   "id": "f14dd1e4",
   "metadata": {},
   "outputs": [],
   "source": [
    "# default args\n",
    "def cleanText(data, to_remove=\"@$#%\"):\n",
    "    newdata = data                # make a copy of data\n",
    "    for char in to_remove:        # loop of each char to remove  \n",
    "        newdata = newdata.replace(char,'') # use replace to remove char\n",
    "    return newdata                # return newdata\n",
    "\n",
    "cText = cleanText(\"He#ll#o@\")     # default chars used for removing\n",
    "print(cText)\n",
    "cText2 = cleanText(\"H@!()#!)@i\", to_remove='@!#()') # updated chars \n",
    "print(cText2)"
   ]
  },
  {
   "cell_type": "markdown",
   "id": "f9556c8c",
   "metadata": {},
   "source": [
    "### Variable Arguments in python\n",
    "A function can have variable arguments in python using `*` symbol before a parameter in the function definition. This allows the function to accept any number of positional arguments as a `tuple`."
   ]
  },
  {
   "cell_type": "code",
   "execution_count": null,
   "id": "f3e325fb",
   "metadata": {},
   "outputs": [],
   "source": [
    "# A function that can multiply n parameters\n",
    "def multiplier(*numbers):\n",
    "    result = 1                  # variable to hold total\n",
    "    for value in numbers:       # loop to get value from numbers\n",
    "        result *= value         # multiply value with result and save\n",
    "    return result               # return result\n",
    "print(multiplier())     # no value\n",
    "print(multiplier(2,3,4)) # with few arguments\n",
    "print(multiplier(2,3,4,3,5,6,1,2,2,5,56,2)) # with many arguments"
   ]
  },
  {
   "cell_type": "code",
   "execution_count": null,
   "id": "77a8e3b7",
   "metadata": {},
   "outputs": [],
   "source": [
    "def operate(*args, operator=\"*\"):\n",
    "    if operator == '*':\n",
    "        result = 1\n",
    "        for num in args:\n",
    "            result*=num\n",
    "        return result\n",
    "    elif operator == '+':\n",
    "        result = 0\n",
    "        for num in args:\n",
    "            result+=num\n",
    "        return result\n",
    "    else:\n",
    "        return \"Wrong operator give, please provide + or *\"\n",
    "    \n",
    "print(operate(1,2,3,4))                 # default multiply values\n",
    "print(operate(1,2,3,4, operator='+'))   # operator is +, so sum of values\n",
    "print(operate(1,2,3,4, operator='-'))   # wrong operator\n"
   ]
  },
  {
   "cell_type": "markdown",
   "id": "2c7cee74",
   "metadata": {},
   "source": [
    "# Anonymous Functions in Python\n",
    "Anonymous functions, also known as lambda functions, are small, unnamed functions defined using the `lambda` keyword. \n",
    "\n",
    "`f(x) = x*2 + 10` == `lambda x: x*2 + 10`"
   ]
  },
  {
   "cell_type": "code",
   "execution_count": null,
   "id": "bed0e580",
   "metadata": {},
   "outputs": [],
   "source": [
    "f = lambda x: x*2 + 10  # x is a parameter here \n",
    "print(f) # shows the memory address (not to be used actually)"
   ]
  },
  {
   "cell_type": "code",
   "execution_count": null,
   "id": "f52acddb",
   "metadata": {},
   "outputs": [],
   "source": [
    "print(f(2))\n",
    "print(f(5))\n",
    "print(f(10))"
   ]
  },
  {
   "cell_type": "code",
   "execution_count": null,
   "id": "d648f4e5",
   "metadata": {},
   "outputs": [],
   "source": [
    "g = lambda x,y : x*y + x + 10   # x and y are 2 parameters\n",
    "print(g(2,3))\n",
    "print(g(5,10))"
   ]
  },
  {
   "cell_type": "markdown",
   "id": "2c39d6d0",
   "metadata": {},
   "source": [
    "### Generators or Lazy functions\n",
    "special type of function that will not evaluate and return all values at once, instead it will return one value at a time, and only when requested."
   ]
  },
  {
   "cell_type": "code",
   "execution_count": null,
   "id": "80ab4f00",
   "metadata": {},
   "outputs": [],
   "source": [
    "for i in range(1,6): print(i)\n",
    "\n",
    "print(list(range(1,10)))"
   ]
  },
  {
   "cell_type": "code",
   "execution_count": null,
   "id": "72a4ffc3",
   "metadata": {},
   "outputs": [],
   "source": [
    "# creating a generator (use yield instead of return)\n",
    "def squared(data):\n",
    "    for i in data:\n",
    "        yield i**2      # yield stores all result in memory to be used later and dont return a single value\n",
    "# squared(data=[1,2,3,4,5,6,7,8]) # this will not give you result\n",
    "# this is how we use generator (getting 1 value at a time)\n",
    "for num in squared([2,3,3,5,6,7]):\n",
    "    print(\"Square\",num)\n",
    "# or you can directly convert the output of generator to a data structure\n",
    "print(list(squared([22,33,55]))) # this calculates and convert all value to a list"
<<<<<<< HEAD
   ]
  },
  {
   "cell_type": "code",
   "execution_count": 58,
   "id": "ab516da5",
   "metadata": {},
   "outputs": [
    {
     "data": {
      "text/plain": [
       "['ZK', 'NA']"
      ]
     },
     "execution_count": 58,
     "metadata": {},
     "output_type": "execute_result"
    }
   ],
   "source": [
    "def getAcronyms(data = []):\n",
    "    for name in data:\n",
    "        acronym = \"\".join([name.split()[0][0],name.split()[1][0]])\n",
    "        yield acronym\n",
    "\n",
    "names = [\"Zaid Kamil\",\"Noor Aman\"]\n",
    "list(getAcronyms(names))"
=======
>>>>>>> 08b9af8f7e6b611a1f5934e97356b529dc8038e3
   ]
  },
  {
   "cell_type": "code",
   "execution_count": null,
   "id": "4af78fda",
   "metadata": {},
   "outputs": [],
   "source": []
  }
 ],
 "metadata": {
  "kernelspec": {
   "display_name": "python_things",
   "language": "python",
   "name": "python3"
  },
  "language_info": {
   "codemirror_mode": {
    "name": "ipython",
    "version": 3
   },
   "file_extension": ".py",
   "mimetype": "text/x-python",
   "name": "python",
   "nbconvert_exporter": "python",
   "pygments_lexer": "ipython3",
   "version": "3.13.1"
  }
 },
 "nbformat": 4,
 "nbformat_minor": 5
}

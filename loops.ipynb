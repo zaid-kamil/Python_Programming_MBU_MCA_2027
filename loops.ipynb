{
 "cells": [
  {
   "cell_type": "code",
   "execution_count": null,
   "id": "42f4ab49",
   "metadata": {},
   "outputs": [
    {
     "name": "stdout",
     "output_type": "stream",
     "text": [
      "Count 1\n"
     ]
    }
   ],
   "source": [
    "movies = [\"Harry Potter 1\", \"Harry Potter 2\", \"Harry Potter 3\", \n",
    "          \"Harry Potter 4\", \"Harry Potter 5\", \"Harry Potter 6\",\n",
    "          \"Harry Potter 7\", \"Harry Potter 8\", \"Fast and Furious 1\",\n",
    "          \"Fast and Furious 2\",\"Fast and Furious 3\",\n",
    "          \"Fast and Furious 4\"]\n",
    "\n",
    "movies_with_h = 0\n",
    "for movie in movies:\n",
    "    if movie.startswith(\"H\") or movie.startswith(\"h\"):\n",
    "        # long way -> movies_with_h = movies_with_h + 1\n",
    "        movies_with_h += 1 \n",
    "print(\"Count\",movies_with_h)"
   ]
  },
  {
   "cell_type": "code",
   "execution_count": 13,
   "id": "1ab34c55",
   "metadata": {},
   "outputs": [
    {
     "name": "stdout",
     "output_type": "stream",
     "text": [
      "10 * 1\n",
      "9 * 10\n",
      "8 * 90\n",
      "7 * 720\n",
      "6 * 5040\n",
      "5 * 30240\n",
      "4 * 151200\n",
      "3 * 604800\n",
      "2 * 1814400\n",
      "1 * 3628800\n",
      "3628800\n"
     ]
    }
   ],
   "source": [
    "# 5 -> 5 * 4 * 3 * 2 * 1 -> 120\n",
    "# factorial\n",
    "num = 10\n",
    "fact = 1\n",
    "# you can use a backward or forward loop\n",
    "for i in range(num,0,-1):\n",
    "    print(f'{i} * {fact}')\n",
    "    fact = fact * i\n",
    "print(fact)"
   ]
  },
  {
   "cell_type": "markdown",
   "id": "7e0b6bff",
   "metadata": {},
   "source": [
    "### Nested loop\n",
    "```\n",
    "for loop:\n",
    "    for loop:\n",
    "        for loop:\n",
    "            ...\n",
    "```"
   ]
  },
  {
   "cell_type": "code",
   "execution_count": null,
   "id": "6a708957",
   "metadata": {},
   "outputs": [],
   "source": [
    "# Loops total 10*5 => 50 times\n",
    "for i in range(1, 11):      # loops 10 times\n",
    "    for j in range(1, 6):   # loops 5 times\n",
    "        print(f\"i = {i}, j = {j}\")\n",
    "    "
   ]
  },
  {
   "cell_type": "code",
   "execution_count": null,
   "id": "f939194f",
   "metadata": {},
   "outputs": [],
   "source": [
    "n = 6\n",
    "for i in range(1, n):\n",
    "    for j in range(1, n):\n",
    "        print(j, end=' ')   # dont change line till inner loop\n",
    "    print()                 # change line for the outer loop\n",
    "    "
   ]
  },
  {
   "cell_type": "code",
   "execution_count": 18,
   "id": "8fe62b29",
   "metadata": {},
   "outputs": [
    {
     "name": "stdout",
     "output_type": "stream",
     "text": [
      "1 1 1 1 1 \n",
      "2 2 2 2 2 \n",
      "3 3 3 3 3 \n",
      "4 4 4 4 4 \n",
      "5 5 5 5 5 \n"
     ]
    }
   ],
   "source": [
    "n = 6\n",
    "for i in range(1, n):\n",
    "    for j in range(1, n):\n",
    "        print(i, end=' ')  \n",
    "    print() "
   ]
  },
  {
   "cell_type": "markdown",
   "id": "3566e8e9",
   "metadata": {},
   "source": [
    "### Jump statement\n",
    "- continue - to skip a step \n",
    "- break - to stop the loop\n",
    "\n",
    "**always used with a condition inside a loop**"
   ]
  },
  {
   "cell_type": "code",
   "execution_count": null,
   "id": "406829ba",
   "metadata": {},
   "outputs": [],
   "source": [
    "# skip every value divisible by 3\n",
    "for i in range(1,25):\n",
    "    if i%3==0:\n",
    "        continue\n",
    "    print(i, end=\" \")"
   ]
  },
  {
   "cell_type": "code",
   "execution_count": 21,
   "id": "45c4b756",
   "metadata": {},
   "outputs": [
    {
     "name": "stdout",
     "output_type": "stream",
     "text": [
      "1 2 3 3 1 2 5 6 7 2 2 1 "
     ]
    }
   ],
   "source": [
    "data = [1,2,0,3,3,0,1,2,0,5,6,7,2,0,2,1]\n",
    "for i in data:\n",
    "    if i == 0: \n",
    "        continue\n",
    "    print(i, end=' ')"
   ]
  },
  {
   "cell_type": "code",
   "execution_count": 23,
   "id": "5b673e9b",
   "metadata": {},
   "outputs": [
    {
     "name": "stdout",
     "output_type": "stream",
     "text": [
      "1 2 3 4 5 6 7 "
     ]
    }
   ],
   "source": [
    "for i in range(1, 11):\n",
    "    if i == 8:\n",
    "        break\n",
    "    print(i, end=\" \")"
   ]
  },
  {
   "cell_type": "code",
   "execution_count": 24,
   "id": "fef23a82",
   "metadata": {},
   "outputs": [
    {
     "name": "stdout",
     "output_type": "stream",
     "text": [
      "enter 0 to stop the loop\n",
      "Total = 908\n"
     ]
    }
   ],
   "source": [
    "# Add all values entered by user till he/she types 0\n",
    "total = 0\n",
    "print(\"enter 0 to stop the loop\")\n",
    "for i in range(100):\n",
    "    value = int(input(\"enter a value\"))\n",
    "    if value == 0: \n",
    "        break\n",
    "    total += value # add the value to total\n",
    "print(f\"Total = {total}\")\n"
   ]
  },
  {
   "cell_type": "code",
   "execution_count": null,
   "id": "e54d8547",
   "metadata": {},
   "outputs": [],
   "source": []
  }
 ],
 "metadata": {
  "kernelspec": {
   "display_name": "python_things",
   "language": "python",
   "name": "python3"
  },
  "language_info": {
   "codemirror_mode": {
    "name": "ipython",
    "version": 3
   },
   "file_extension": ".py",
   "mimetype": "text/x-python",
   "name": "python",
   "nbconvert_exporter": "python",
   "pygments_lexer": "ipython3",
   "version": "3.13.1"
  }
 },
 "nbformat": 4,
 "nbformat_minor": 5
}

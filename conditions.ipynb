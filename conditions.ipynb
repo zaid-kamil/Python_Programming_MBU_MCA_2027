{
 "cells": [
  {
   "cell_type": "markdown",
   "id": "63e6535a",
   "metadata": {},
   "source": [
    "# Conditions\n",
    "in python there are *4 conditional* statements\n",
    "- `if`\n",
    "- `if-else`\n",
    "- `if-elif`\n",
    "- `match case`"
   ]
  },
  {
   "cell_type": "code",
   "execution_count": 1,
   "id": "04ec87d6",
   "metadata": {},
   "outputs": [
    {
     "name": "stdout",
     "output_type": "stream",
     "text": [
      "value => 200\n"
     ]
    }
   ],
   "source": [
    "data = int(input(\"enter data value\"))\n",
    "print(f\"value => {data}\")"
   ]
  },
  {
   "cell_type": "code",
   "execution_count": 6,
   "id": "45eb5fdb",
   "metadata": {},
   "outputs": [
    {
     "name": "stdout",
     "output_type": "stream",
     "text": [
      "You see an apple seller\n"
     ]
    }
   ],
   "source": [
    "print(\"You see an apple seller\")\n",
    "ans = input(\"DO u like apples 🍎\")\n",
    "if ans == \"yes\":\n",
    "    print(\"Buy 2 Kg apples\")\n",
    "if ans == \"no\":\n",
    "    print(\"You dont buy apple\")"
   ]
  },
  {
   "cell_type": "code",
   "execution_count": null,
   "id": "af1b7fc3",
   "metadata": {},
   "outputs": [],
   "source": [
    "salary = 42000\n",
    "if salary > 50000:\n",
    "    da = .15            # 15% dearness allowance\n",
    "total = salary + salary * da        \n",
    "print(f\"total salary is {total}\")     "
   ]
  },
  {
   "cell_type": "code",
   "execution_count": 3,
   "id": "c48d33d7",
   "metadata": {},
   "outputs": [
    {
     "name": "stdout",
     "output_type": "stream",
     "text": [
      "total salary is 42000\n"
     ]
    }
   ],
   "source": [
    "# solution 1 - create the da variable before condition\n",
    "salary = 42000\n",
    "da = 0\n",
    "if salary > 50000:\n",
    "    da = .15            # 15% dearness allowance\n",
    "total = salary + salary * da        \n",
    "print(f\"total salary is {total}\")     "
   ]
  },
  {
   "cell_type": "code",
   "execution_count": null,
   "id": "1307e4bb",
   "metadata": {},
   "outputs": [],
   "source": [
    "# solution 2 - use if else\n",
    "salary = 42000\n",
    "if salary > 50000:\n",
    "    da = .15            \n",
    "    total = salary + salary * da\n",
    "else:\n",
    "    total = salary        \n",
    "print(f\"total salary is {total}\")"
   ]
  },
  {
   "cell_type": "code",
   "execution_count": null,
   "id": "2c664539",
   "metadata": {},
   "outputs": [],
   "source": [
    "# solution 2 - use if else with their own print\n",
    "salary = 42000\n",
    "if salary > 50000:\n",
    "    da = .15            \n",
    "    total = salary + salary * da\n",
    "    print(f\"total salary is {total}\")\n",
    "else:\n",
    "    total = salary        \n",
    "    print(f\"total salary is {total}\")"
   ]
  },
  {
   "cell_type": "code",
   "execution_count": null,
   "id": "6a9c7495",
   "metadata": {},
   "outputs": [],
   "source": [
    "x =  int(input(\"Enter a number:\"))\n",
    "y = int(input(\"Enter second number:\"))\n",
    "if x > y:\n",
    "    ans = x - y\n",
    "else:\n",
    "    ans = y - x\n",
    "print(ans)"
   ]
  },
  {
   "cell_type": "code",
   "execution_count": 6,
   "id": "62d185b8",
   "metadata": {},
   "outputs": [
    {
     "name": "stdout",
     "output_type": "stream",
     "text": [
      "long movie name: Babubali the beginning\n",
      "the end\n"
     ]
    }
   ],
   "source": [
    "name = input(\"enter your fav movie\")\n",
    "if len(name) > 10:\n",
    "    print(f\"long movie name: {name}\")\n",
    "else:\n",
    "    print(f\"short movie name: {name}\")\n",
    "print(\"the end\")"
   ]
  },
  {
   "cell_type": "markdown",
   "id": "6d725896",
   "metadata": {},
   "source": [
    "### handling multiple conditions using `if-elif`\n"
   ]
  },
  {
   "cell_type": "code",
   "execution_count": 6,
   "id": "5080bea5",
   "metadata": {},
   "outputs": [
    {
     "name": "stdout",
     "output_type": "stream",
     "text": [
      "What is the capital of India?\n"
     ]
    }
   ],
   "source": [
    "print(\"What is the capital of India?\")\n",
    "answer = input(\"Answer\")\n",
    "if answer == \"Delhi\":\n",
    "    print(\"Your are correct\")\n",
    "if answer == \"New Delhi\":\n",
    "    print(\"You are very correct\")\n",
    "if answer == \"I dont know\":\n",
    "    print(\"U must be sleeping under a rock\")\n",
    "if answer == \"Shimla\":\n",
    "    print(\"You must be from Britain\")"
   ]
  },
  {
   "cell_type": "code",
   "execution_count": 9,
   "id": "bfa0ab43",
   "metadata": {},
   "outputs": [
    {
     "name": "stdout",
     "output_type": "stream",
     "text": [
      "Your grade: C\n"
     ]
    }
   ],
   "source": [
    "marks = int(input(\"enter your total marks in 10th:\"))\n",
    "if marks > 90:\n",
    "    print(\"Your grade: A\")\n",
    "elif marks > 75:\n",
    "    print(\"Your grade: B\")\n",
    "elif marks > 60:\n",
    "    print(\"Your grade: C\")\n",
    "elif marks > 40:\n",
    "    print(\"Your grade: D\")\n",
    "elif marks < 40:\n",
    "    print(\"You failed ☠️\") "
   ]
  },
  {
   "cell_type": "code",
   "execution_count": null,
   "id": "6d0e0b38",
   "metadata": {},
   "outputs": [],
   "source": [
    "# without elif\n",
    "marks = int(input(\"enter your total marks in 10th:\"))\n",
    "if marks > 90 and marks <=100:\n",
    "    print(\"Your grade: A\")\n",
    "if marks > 75 and marks <=90:\n",
    "    print(\"Your grade: B\")\n",
    "if marks > 60 and marks <=75:\n",
    "    print(\"Your grade: C\")\n",
    "if marks > 40 and marks <=60:\n",
    "    print(\"Your grade: D\")\n",
    "if marks < 40:\n",
    "    print(\"You failed ☠️\") "
   ]
  },
  {
   "cell_type": "code",
   "execution_count": 11,
   "id": "196891e5",
   "metadata": {},
   "outputs": [
    {
     "name": "stdout",
     "output_type": "stream",
     "text": [
      "Frds Salary => 78870\n",
      "Frds Total => 74926.5\n"
     ]
    }
   ],
   "source": [
    "# salary calculator\n",
    "salary = int(input(\"Enter your frds salary:\"))\n",
    "if salary > 100000:\n",
    "    total = salary - salary * .2 # frds tax 20%\n",
    "elif salary > 80000:\n",
    "    total = salary - salary * .1\n",
    "elif salary > 50000: \n",
    "    total = salary - salary * .05\n",
    "else: \n",
    "    total = salary + 10000\n",
    "print(f'Frds Salary => {salary}')\n",
    "print(f'Frds Total => {total}')  "
   ]
  },
  {
   "cell_type": "markdown",
   "id": "569642b7",
   "metadata": {},
   "source": [
    "### match case"
   ]
  },
  {
   "cell_type": "code",
   "execution_count": 2,
   "id": "8ceb9778",
   "metadata": {},
   "outputs": [
    {
     "name": "stdout",
     "output_type": "stream",
     "text": [
      "Its not an option\n"
     ]
    }
   ],
   "source": [
    "day = input(\"What is the day today?\")\n",
    "match day:\n",
    "    case \"Monday\": print(\"Today is Monday! Boring\")\n",
    "    case \"Sunday\": print(\"Holiday\")\n",
    "    case \"Friday\": print(\"Waiting for the weekend\")\n",
    "    case \"Saturday\": print(\"The best day of the week\")\n",
    "    case default: print(\"Its not an option\")"
   ]
  },
  {
   "cell_type": "code",
   "execution_count": 6,
   "id": "4e66d28b",
   "metadata": {},
   "outputs": [
    {
     "name": "stdout",
     "output_type": "stream",
     "text": [
      "Tell me some movies\n",
      "Adam Project, Nimona, Interstellar\n"
     ]
    }
   ],
   "source": [
    "print(\"Tell me some movies\")\n",
    "genre = input(\"What genre do you like?\")\n",
    "match genre:\n",
    "    case \"action\": \n",
    "        print(\"Avengers, Deadpool, Fast & furious\")\n",
    "    case \"horror\":\n",
    "        print(\"IT, Nun, Stree\")\n",
    "    case \"fantasy\":\n",
    "        print(\"Lord of the ring series, Harry potter series\")\n",
    "    case \"sci-fi\"|\"comedy\":\n",
    "        print(\"Adam Project, Nimona, Interstellar\")\n",
    "    case default:\n",
    "        print(\"You should not watch any movies\")"
   ]
  },
  {
   "cell_type": "markdown",
   "id": "4aec1b13",
   "metadata": {},
   "source": [
    "# nested if\n",
    "```\n",
    "if cond\n",
    "    if cond \n",
    "        if cond\n",
    "            statement\n",
    "        else:\n",
    "            statement\n",
    "    else:\n",
    "        statement\n",
    "else:\n",
    "    statement\n",
    "```"
   ]
  },
  {
   "cell_type": "code",
   "execution_count": null,
   "id": "17adf1ec",
   "metadata": {},
   "outputs": [],
   "source": [
    "ans = input(\"You see a bear, would like to fight it y/n?\")\n",
    "if ans == \"n\":\n",
    "    print(\"You escaped and find a lion\")\n",
    "    ans2 = input(\"You want to fight it y/n\")\n",
    "    if ans2 == \"n\":\n",
    "        print(\"You escaped again, and find a car\")\n",
    "        ans3 = input(\"you want to drive it y/n\")\n",
    "        if ans3 == 'y':\n",
    "            print(\"You escaped the area\")\n",
    "        else:\n",
    "            print(\"The bear & lion catch and kill u\")\n",
    "    else:\n",
    "        print(\"You failed miserably and died\")\n",
    "else:\n",
    "    print(\"The bear destroyed you\")"
   ]
  },
  {
   "cell_type": "code",
   "execution_count": 7,
   "id": "429798ac",
   "metadata": {},
   "outputs": [
    {
     "name": "stdout",
     "output_type": "stream",
     "text": [
      "the total is 28\n"
     ]
    }
   ],
   "source": [
    "a,b,c = 10,5,23\n",
    "if a > b:\n",
    "    if a > c:\n",
    "        total = a + b + c\n",
    "        if total > 100:\n",
    "            print(f\"The total is big value = {total}\")\n",
    "        else:\n",
    "            print(f\"The total is small value = {total}\")\n",
    "    else:\n",
    "        total = c + b\n",
    "        print(f\"the total is {total}\")\n",
    "else:\n",
    "    print(\"the total was not calculated\")    "
   ]
  },
  {
   "cell_type": "code",
   "execution_count": null,
   "id": "ccda2abc",
   "metadata": {},
   "outputs": [],
   "source": []
  }
 ],
 "metadata": {
  "kernelspec": {
   "display_name": "python_things",
   "language": "python",
   "name": "python3"
  },
  "language_info": {
   "codemirror_mode": {
    "name": "ipython",
    "version": 3
   },
   "file_extension": ".py",
   "mimetype": "text/x-python",
   "name": "python",
   "nbconvert_exporter": "python",
   "pygments_lexer": "ipython3",
   "version": "3.13.1"
  }
 },
 "nbformat": 4,
 "nbformat_minor": 5
}

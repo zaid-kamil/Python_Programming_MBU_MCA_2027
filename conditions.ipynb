{
 "cells": [
  {
   "cell_type": "markdown",
   "id": "63e6535a",
   "metadata": {},
   "source": [
    "# Conditions\n",
    "in python there are *4 conditional* statements\n",
    "- `if`\n",
    "- `if-else`\n",
    "- `if-elif`\n",
    "- `match case`"
   ]
  },
  {
   "cell_type": "code",
   "execution_count": 1,
   "id": "04ec87d6",
   "metadata": {},
   "outputs": [
    {
     "name": "stdout",
     "output_type": "stream",
     "text": [
      "value => 200\n"
     ]
    }
   ],
   "source": [
    "data = int(input(\"enter data value\"))\n",
    "print(f\"value => {data}\")"
   ]
  },
  {
   "cell_type": "code",
   "execution_count": 6,
   "id": "45eb5fdb",
   "metadata": {},
   "outputs": [
    {
     "name": "stdout",
     "output_type": "stream",
     "text": [
      "You see an apple seller\n"
     ]
    }
   ],
   "source": [
    "print(\"You see an apple seller\")\n",
    "ans = input(\"DO u like apples 🍎\")\n",
    "if ans == \"yes\":\n",
    "    print(\"Buy 2 Kg apples\")\n",
    "if ans == \"no\":\n",
    "    print(\"You dont buy apple\")"
   ]
  },
  {
   "cell_type": "code",
   "execution_count": 11,
   "id": "af1b7fc3",
   "metadata": {},
   "outputs": [
    {
     "ename": "NameError",
     "evalue": "name 'da' is not defined",
     "output_type": "error",
     "traceback": [
      "\u001b[1;31m---------------------------------------------------------------------------\u001b[0m",
      "\u001b[1;31mNameError\u001b[0m                                 Traceback (most recent call last)",
      "Cell \u001b[1;32mIn[11], line 4\u001b[0m\n\u001b[0;32m      2\u001b[0m \u001b[38;5;28;01mif\u001b[39;00m salary \u001b[38;5;241m>\u001b[39m \u001b[38;5;241m50000\u001b[39m:\n\u001b[0;32m      3\u001b[0m     da \u001b[38;5;241m=\u001b[39m \u001b[38;5;241m.15\u001b[39m            \u001b[38;5;66;03m# 15% dearness allowance\u001b[39;00m\n\u001b[1;32m----> 4\u001b[0m total \u001b[38;5;241m=\u001b[39m salary \u001b[38;5;241m+\u001b[39m salary \u001b[38;5;241m*\u001b[39m \u001b[43mda\u001b[49m        \n\u001b[0;32m      5\u001b[0m \u001b[38;5;28mprint\u001b[39m(\u001b[38;5;124mf\u001b[39m\u001b[38;5;124m\"\u001b[39m\u001b[38;5;124mtotal salary is \u001b[39m\u001b[38;5;132;01m{\u001b[39;00mtotal\u001b[38;5;132;01m}\u001b[39;00m\u001b[38;5;124m\"\u001b[39m)     \n",
      "\u001b[1;31mNameError\u001b[0m: name 'da' is not defined"
     ]
    }
   ],
   "source": [
    "salary = 42000\n",
    "if salary > 50000:\n",
    "    da = .15            # 15% dearness allowance\n",
    "total = salary + salary * da        \n",
    "print(f\"total salary is {total}\")     "
   ]
  },
  {
   "cell_type": "code",
   "execution_count": null,
   "id": "e344d833",
   "metadata": {},
   "outputs": [],
   "source": [
    "del da"
   ]
  }
 ],
 "metadata": {
  "kernelspec": {
   "display_name": "python_things",
   "language": "python",
   "name": "python3"
  },
  "language_info": {
   "codemirror_mode": {
    "name": "ipython",
    "version": 3
   },
   "file_extension": ".py",
   "mimetype": "text/x-python",
   "name": "python",
   "nbconvert_exporter": "python",
   "pygments_lexer": "ipython3",
   "version": "3.13.1"
  }
 },
 "nbformat": 4,
 "nbformat_minor": 5
}

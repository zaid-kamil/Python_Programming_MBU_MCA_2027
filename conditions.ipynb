{
 "cells": [
  {
   "cell_type": "markdown",
   "id": "63e6535a",
   "metadata": {},
   "source": [
    "# Conditions\n",
    "in python there are *4 conditional* statements\n",
    "- `if`\n",
    "- `if-else`\n",
    "- `if-elif`\n",
    "- `match case`"
   ]
  },
  {
   "cell_type": "code",
   "execution_count": 1,
   "id": "04ec87d6",
   "metadata": {},
   "outputs": [
    {
     "name": "stdout",
     "output_type": "stream",
     "text": [
      "value => 200\n"
     ]
    }
   ],
   "source": [
    "data = int(input(\"enter data value\"))\n",
    "print(f\"value => {data}\")"
   ]
  },
  {
   "cell_type": "code",
   "execution_count": 6,
   "id": "45eb5fdb",
   "metadata": {},
   "outputs": [
    {
     "name": "stdout",
     "output_type": "stream",
     "text": [
      "You see an apple seller\n"
     ]
    }
   ],
   "source": [
    "print(\"You see an apple seller\")\n",
    "ans = input(\"DO u like apples 🍎\")\n",
    "if ans == \"yes\":\n",
    "    print(\"Buy 2 Kg apples\")\n",
    "if ans == \"no\":\n",
    "    print(\"You dont buy apple\")"
   ]
  },
  {
   "cell_type": "code",
   "execution_count": null,
   "id": "af1b7fc3",
   "metadata": {},
   "outputs": [],
   "source": [
    "salary = 42000\n",
    "if salary > 50000:\n",
    "    da = .15            # 15% dearness allowance\n",
    "total = salary + salary * da        \n",
    "print(f\"total salary is {total}\")     "
   ]
  },
  {
   "cell_type": "code",
   "execution_count": 3,
   "id": "c48d33d7",
   "metadata": {},
   "outputs": [
    {
     "name": "stdout",
     "output_type": "stream",
     "text": [
      "total salary is 42000\n"
     ]
    }
   ],
   "source": [
    "# solution 1 - create the da variable before condition\n",
    "salary = 42000\n",
    "da = 0\n",
    "if salary > 50000:\n",
    "    da = .15            # 15% dearness allowance\n",
    "total = salary + salary * da        \n",
    "print(f\"total salary is {total}\")     "
   ]
  },
  {
   "cell_type": "code",
   "execution_count": null,
   "id": "1307e4bb",
   "metadata": {},
   "outputs": [],
   "source": [
    "# solution 2 - use if else\n",
    "salary = 42000\n",
    "if salary > 50000:\n",
    "    da = .15            \n",
    "    total = salary + salary * da\n",
    "else:\n",
    "    total = salary        \n",
    "print(f\"total salary is {total}\")"
   ]
  },
  {
   "cell_type": "code",
   "execution_count": null,
   "id": "2c664539",
   "metadata": {},
   "outputs": [],
   "source": [
    "# solution 2 - use if else with their own print\n",
    "salary = 42000\n",
    "if salary > 50000:\n",
    "    da = .15            \n",
    "    total = salary + salary * da\n",
    "    print(f\"total salary is {total}\")\n",
    "else:\n",
    "    total = salary        \n",
    "    print(f\"total salary is {total}\")"
   ]
  },
  {
   "cell_type": "code",
   "execution_count": null,
   "id": "6a9c7495",
   "metadata": {},
   "outputs": [],
   "source": [
    "x =  int(input(\"Enter a number:\"))\n",
    "y = int(input(\"Enter second number:\"))\n",
    "if x > y:\n",
    "    ans = x - y\n",
    "else:\n",
    "    ans = y - x\n",
    "print(ans)"
   ]
  },
  {
   "cell_type": "code",
   "execution_count": 6,
   "id": "62d185b8",
   "metadata": {},
   "outputs": [
    {
     "name": "stdout",
     "output_type": "stream",
     "text": [
      "long movie name: Babubali the beginning\n",
      "the end\n"
     ]
    }
   ],
   "source": [
    "name = input(\"enter your fav movie\")\n",
    "if len(name) > 10:\n",
    "    print(f\"long movie name: {name}\")\n",
    "else:\n",
    "    print(f\"short movie name: {name}\")\n",
    "print(\"the end\")"
   ]
  },
  {
   "cell_type": "code",
   "execution_count": null,
   "id": "5080bea5",
   "metadata": {},
   "outputs": [],
   "source": []
  }
 ],
 "metadata": {
  "kernelspec": {
   "display_name": "python_things",
   "language": "python",
   "name": "python3"
  },
  "language_info": {
   "codemirror_mode": {
    "name": "ipython",
    "version": 3
   },
   "file_extension": ".py",
   "mimetype": "text/x-python",
   "name": "python",
   "nbconvert_exporter": "python",
   "pygments_lexer": "ipython3",
   "version": "3.13.1"
  }
 },
 "nbformat": 4,
 "nbformat_minor": 5
}

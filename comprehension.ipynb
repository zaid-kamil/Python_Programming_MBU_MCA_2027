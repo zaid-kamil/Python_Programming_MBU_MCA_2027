{
 "cells": [
  {
   "cell_type": "code",
   "execution_count": null,
   "id": "3599be40",
   "metadata": {},
   "outputs": [],
   "source": [
    "movies = [\n",
    "    \"Baahubali: The Beginning\",\"Baahubali 2: The Conclusion\",\"RRR\",\n",
    "    \"KGF: Chapter 1\",\"KGF: Chapter 2\",\"Jai Bhim\",\"Asuran\",\n",
    "    \"Vada Chennai\",\"Kantara\",\"777 Charlie\",\"Soorarai Pottru\",\"Drishyam 2\",\n",
    "    \"Pushpa: The Rise\",\"Vikram\",\"Manjummel Boys\"\n",
    "]\n",
    "movies"
   ]
  },
  {
   "cell_type": "code",
   "execution_count": null,
   "id": "a7580e96",
   "metadata": {},
   "outputs": [],
   "source": [
    "# wap to create a list from movies but with all capital letters\n",
    "movies_caps = []\n",
    "for movie in movies:\n",
    "    name = movie.upper()\n",
    "    movies_caps.append(name)\n",
    "print(movies)\n",
    "print(movies_caps)"
   ]
  },
  {
   "cell_type": "code",
   "execution_count": null,
   "id": "127dd00a",
   "metadata": {},
   "outputs": [],
   "source": [
    "movies_caps = [movie.upper() for movie in movies]\n",
    "print(movies)\n",
    "print(movies_caps)"
   ]
  },
  {
   "cell_type": "markdown",
   "id": "3cdfcb9c",
   "metadata": {},
   "source": [
    "# filter the movies the contain the char 'o' and store in new list"
   ]
  },
  {
   "cell_type": "code",
   "execution_count": 7,
   "id": "f44a9b50",
   "metadata": {},
   "outputs": [
    {
     "name": "stdout",
     "output_type": "stream",
     "text": [
      "['Baahubali: The Beginning', 'Baahubali 2: The Conclusion', 'RRR', 'KGF: Chapter 1', 'KGF: Chapter 2', 'Jai Bhim', 'Asuran', 'Vada Chennai', 'Kantara', '777 Charlie', 'Soorarai Pottru', 'Drishyam 2', 'Pushpa: The Rise', 'Vikram', 'Manjummel Boys']\n",
      "['Baahubali 2: The Conclusion', 'Soorarai Pottru', 'Manjummel Boys']\n"
     ]
    }
   ],
   "source": [
    "movies_with_o = []\n",
    "for item in movies:\n",
    "    if 'o' in item or 'O' in item:\n",
    "        movies_with_o.append(item)\n",
    "print(movies)\n",
    "print(movies_with_o)"
   ]
  },
  {
   "cell_type": "code",
   "execution_count": null,
   "id": "b47587a1",
   "metadata": {},
   "outputs": [],
   "source": [
    "movies_with_e = [nm for nm in movies if 'o' in nm or 'O' in nm]"
   ]
  }
 ],
 "metadata": {
  "kernelspec": {
   "display_name": "python_things",
   "language": "python",
   "name": "python3"
  },
  "language_info": {
   "codemirror_mode": {
    "name": "ipython",
    "version": 3
   },
   "file_extension": ".py",
   "mimetype": "text/x-python",
   "name": "python",
   "nbconvert_exporter": "python",
   "pygments_lexer": "ipython3",
   "version": "3.13.1"
  }
 },
 "nbformat": 4,
 "nbformat_minor": 5
}

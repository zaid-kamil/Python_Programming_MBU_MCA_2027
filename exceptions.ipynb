{
 "cells": [
  {
   "cell_type": "markdown",
   "id": "6a9493ca",
   "metadata": {},
   "source": [
    "# Exceptions in python\n"
   ]
  },
  {
   "cell_type": "code",
   "execution_count": 5,
   "id": "dca243ae",
   "metadata": {},
   "outputs": [
    {
     "name": "stdout",
     "output_type": "stream",
     "text": [
      "You entered wrong data\n"
     ]
    }
   ],
   "source": [
    "try:\n",
    "    a = int(input(\"Enter num->\"))\n",
    "    print(a)\n",
    "except:\n",
    "    print(\"You entered wrong data\")"
   ]
  },
  {
   "cell_type": "code",
   "execution_count": null,
   "id": "1a62b5a0",
   "metadata": {},
   "outputs": [],
   "source": []
  }
 ],
 "metadata": {
  "kernelspec": {
   "display_name": "python_things",
   "language": "python",
   "name": "python3"
  },
  "language_info": {
   "codemirror_mode": {
    "name": "ipython",
    "version": 3
   },
   "file_extension": ".py",
   "mimetype": "text/x-python",
   "name": "python",
   "nbconvert_exporter": "python",
   "pygments_lexer": "ipython3",
   "version": "3.13.1"
  }
 },
 "nbformat": 4,
 "nbformat_minor": 5
}

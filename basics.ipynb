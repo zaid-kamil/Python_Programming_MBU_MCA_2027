{
 "cells": [
  {
   "cell_type": "code",
   "execution_count": 3,
   "id": "898b998a",
   "metadata": {},
   "outputs": [],
   "source": [
    "name = \"Zaid kamil\"\n",
    "city = \"Tirupati\"\n",
    "age = 34\n",
    "pi = 3.1415\n",
    "is_good = True"
   ]
  },
  {
   "cell_type": "markdown",
   "id": "733dd08f",
   "metadata": {},
   "source": [
    "Python has 10 datatypes\n",
    "- int (integer) -> for whole numbers\n",
    "- float -> for real/scientific numbers\n",
    "- complex -> for complex numbers\n",
    "- bool (boolean) -> for True/False values\n",
    "- none (Nonetype) -> for specifying no value\n",
    "- str (String) -> for textual values\n",
    "- list -> for storing arrays and sequences\n",
    "- tuple -> for unchangeable arrays and sequences\n",
    "- set -> for unqiue sequences\n",
    "- dict -> for storing key value data "
   ]
  },
  {
   "cell_type": "code",
   "execution_count": 5,
   "id": "f8c81555",
   "metadata": {},
   "outputs": [],
   "source": [
    "x = 5                                               # int\n",
    "y = 1.5                                             # float\n",
    "z = 10j                                             # complex\n",
    "is_working = False                                  # bool\n",
    "is_empty = None                                     # Nonetype\n",
    "univ = \"Mohan Babu University\"                      # str\n",
    "colors = ['red','pink','orange']                    # list\n",
    "points = (1, 3, 14, 10)                             # tuple\n",
    "names = {\"yashwanth\",'jyosthna','Ajay','Sandhya'}   # set\n",
    "info = {                                            # dictionary\n",
    "    \"name\" : \"Zaid kamil\",\n",
    "    \"designation\" : \"Training Manager\",\n",
    "    \"dept\": \"CDC\"\n",
    "}"
   ]
  },
  {
   "cell_type": "code",
   "execution_count": 1,
   "id": "3105cbf5",
   "metadata": {},
   "outputs": [
    {
     "data": {
      "text/plain": [
       "1750.0"
      ]
     },
     "execution_count": 1,
     "metadata": {},
     "output_type": "execute_result"
    }
   ],
   "source": [
    "p = 10000\n",
    "r = 3.5\n",
    "t = 5\n",
    "si = p * r * t / 100\n",
    "si"
   ]
  },
  {
   "cell_type": "markdown",
   "id": "3814e31a",
   "metadata": {},
   "source": [
    "# 2 types of variable\n",
    "1. Directly initialized\n",
    "`x = 10`\n",
    "2. Dynamically calculated \n",
    "`z = x * 10`"
   ]
  },
  {
   "cell_type": "code",
   "execution_count": 3,
   "id": "4d68d020",
   "metadata": {},
   "outputs": [
    {
     "data": {
      "text/plain": [
       "50.24"
      ]
     },
     "execution_count": 3,
     "metadata": {},
     "output_type": "execute_result"
    }
   ],
   "source": [
    "r = 8   # cm\n",
    "pi = 3.14\n",
    "circumference = 2 * pi * r\n",
    "circumference"
   ]
  },
  {
   "cell_type": "code",
   "execution_count": 6,
   "id": "02d26847",
   "metadata": {},
   "outputs": [
    {
     "data": {
      "text/plain": [
       "50.24"
      ]
     },
     "execution_count": 6,
     "metadata": {},
     "output_type": "execute_result"
    }
   ],
   "source": [
    "circumference"
   ]
  },
  {
   "cell_type": "markdown",
   "id": "f554a3f3",
   "metadata": {},
   "source": [
    "# operators\n",
    "- Assignment operator\n",
    "- Arithmetic operator\n",
    "- Comparison operator\n",
    "- logical operator\n",
    "- bitwise operator\n",
    "- membership operator"
   ]
  },
  {
   "cell_type": "code",
   "execution_count": 9,
   "id": "f0fd9334",
   "metadata": {},
   "outputs": [],
   "source": [
    "a = 10\n",
    "b = 3"
   ]
  },
  {
   "cell_type": "markdown",
   "id": "9bdd29e1",
   "metadata": {},
   "source": [
    "Assignment operators\n",
    "`= += -= /= *= **= //=`"
   ]
  },
  {
   "cell_type": "code",
   "execution_count": 14,
   "id": "48e441e3",
   "metadata": {},
   "outputs": [
    {
     "data": {
      "text/plain": [
       "20"
      ]
     },
     "execution_count": 14,
     "metadata": {},
     "output_type": "execute_result"
    }
   ],
   "source": [
    "a = 10\n",
    "b = a + 5\n",
    "c = b - 10\n",
    "\n",
    "a += 10\n",
    "a"
   ]
  },
  {
   "cell_type": "code",
   "execution_count": 16,
   "id": "fe0d86c9",
   "metadata": {},
   "outputs": [
    {
     "data": {
      "text/plain": [
       "13"
      ]
     },
     "execution_count": 16,
     "metadata": {},
     "output_type": "execute_result"
    }
   ],
   "source": [
    "b -= 2\n",
    "b"
   ]
  },
  {
   "cell_type": "code",
   "execution_count": 18,
   "id": "3e422aa7",
   "metadata": {},
   "outputs": [
    {
     "data": {
      "text/plain": [
       "3"
      ]
     },
     "execution_count": 18,
     "metadata": {},
     "output_type": "execute_result"
    }
   ],
   "source": [
    "b - 10"
   ]
  },
  {
   "cell_type": "code",
   "execution_count": null,
   "id": "03753062",
   "metadata": {},
   "outputs": [
    {
     "data": {
      "text/plain": [
       "3"
      ]
     },
     "execution_count": 20,
     "metadata": {},
     "output_type": "execute_result"
    }
   ],
   "source": [
    "b = b - 10  # b -= 10\n",
    "b"
   ]
  },
  {
   "cell_type": "code",
   "execution_count": 24,
   "id": "d18bc333",
   "metadata": {},
   "outputs": [
    {
     "data": {
      "text/plain": [
       "2500.0"
      ]
     },
     "execution_count": 24,
     "metadata": {},
     "output_type": "execute_result"
    }
   ],
   "source": [
    "x = 1000 # assignment\n",
    "x -= 500  # assingment\n",
    "x *= 10\n",
    "x /= 2\n",
    "x"
   ]
  },
  {
   "cell_type": "code",
   "execution_count": null,
   "id": "8f0f87f5",
   "metadata": {},
   "outputs": [],
   "source": []
  },
  {
   "cell_type": "code",
   "execution_count": 27,
   "id": "2ebe668c",
   "metadata": {},
   "outputs": [],
   "source": [
    "z = 5"
   ]
  },
  {
   "cell_type": "code",
   "execution_count": 28,
   "id": "470b6376",
   "metadata": {},
   "outputs": [
    {
     "data": {
      "text/plain": [
       "2.5"
      ]
     },
     "execution_count": 28,
     "metadata": {},
     "output_type": "execute_result"
    }
   ],
   "source": [
    "x = 1000 # assignment\n",
    "x -= 500  # assingment\n",
    "x *= 10\n",
    "z /= 2\n",
    "z"
   ]
  },
  {
   "cell_type": "markdown",
   "id": "2fd47242",
   "metadata": {},
   "source": [
    "# arithmetic operator\n",
    "- Add       `+`\n",
    "- Sub       `-`\n",
    "- Mul       `*`\n",
    "- Div       `/`\n",
    "- Int Div   `//`\n",
    "- Exp       `**`\n",
    "- Mod       `%`"
   ]
  },
  {
   "cell_type": "code",
   "execution_count": 1,
   "id": "d8866ecb",
   "metadata": {},
   "outputs": [
    {
     "data": {
      "text/plain": [
       "13"
      ]
     },
     "execution_count": 1,
     "metadata": {},
     "output_type": "execute_result"
    }
   ],
   "source": [
    "a = 10\n",
    "b = 3\n",
    "a + b"
   ]
  },
  {
   "cell_type": "code",
   "execution_count": 2,
   "id": "77e723c8",
   "metadata": {},
   "outputs": [
    {
     "data": {
      "text/plain": [
       "7"
      ]
     },
     "execution_count": 2,
     "metadata": {},
     "output_type": "execute_result"
    }
   ],
   "source": [
    "a - b"
   ]
  },
  {
   "cell_type": "code",
   "execution_count": 3,
   "id": "8aca901e",
   "metadata": {},
   "outputs": [
    {
     "data": {
      "text/plain": [
       "3"
      ]
     },
     "execution_count": 3,
     "metadata": {},
     "output_type": "execute_result"
    }
   ],
   "source": [
    "a + b - a"
   ]
  },
  {
   "cell_type": "code",
   "execution_count": 8,
   "id": "935450a7",
   "metadata": {},
   "outputs": [
    {
     "data": {
      "text/plain": [
       "30"
      ]
     },
     "execution_count": 8,
     "metadata": {},
     "output_type": "execute_result"
    }
   ],
   "source": [
    "a * b # multiplication"
   ]
  },
  {
   "cell_type": "code",
   "execution_count": null,
   "id": "996eea1f",
   "metadata": {},
   "outputs": [
    {
     "data": {
      "text/plain": [
       "3.3333333333333335"
      ]
     },
     "execution_count": 5,
     "metadata": {},
     "output_type": "execute_result"
    }
   ],
   "source": [
    "a / b   # float division"
   ]
  },
  {
   "cell_type": "code",
   "execution_count": null,
   "id": "4902edcf",
   "metadata": {},
   "outputs": [
    {
     "data": {
      "text/plain": [
       "3"
      ]
     },
     "execution_count": 6,
     "metadata": {},
     "output_type": "execute_result"
    }
   ],
   "source": [
    "a // b # quotient / int division"
   ]
  },
  {
   "cell_type": "code",
   "execution_count": null,
   "id": "12e74205",
   "metadata": {},
   "outputs": [
    {
     "data": {
      "text/plain": [
       "1"
      ]
     },
     "execution_count": 7,
     "metadata": {},
     "output_type": "execute_result"
    }
   ],
   "source": [
    "a % b # remainder"
   ]
  },
  {
   "cell_type": "code",
   "execution_count": 10,
   "id": "a35f7b5b",
   "metadata": {},
   "outputs": [
    {
     "data": {
      "text/plain": [
       "1000"
      ]
     },
     "execution_count": 10,
     "metadata": {},
     "output_type": "execute_result"
    }
   ],
   "source": [
    "a ** b # 10 power of 3 / Exponentiation"
   ]
  },
  {
   "cell_type": "markdown",
   "id": "39ef63bf",
   "metadata": {},
   "source": [
    "# operator precedence\n",
    "```\n",
    "1 => ()\n",
    "2 => **, *, /, //\n",
    "3 => +, -\n",
    "4 => =\n",
    "```"
   ]
  },
  {
   "cell_type": "code",
   "execution_count": 14,
   "id": "10beb3b5",
   "metadata": {},
   "outputs": [
    {
     "data": {
      "text/plain": [
       "27.0"
      ]
     },
     "execution_count": 14,
     "metadata": {},
     "output_type": "execute_result"
    }
   ],
   "source": [
    "2 + 10 / 2 * 5\n",
    "# 2 + 5.0 * 5  step 1\n",
    "# 2 + 25.0     step 2\n",
    "# 27.0         step 3"
   ]
  },
  {
   "cell_type": "code",
   "execution_count": 16,
   "id": "19fbb9d3",
   "metadata": {},
   "outputs": [
    {
     "data": {
      "text/plain": [
       "169"
      ]
     },
     "execution_count": 16,
     "metadata": {},
     "output_type": "execute_result"
    }
   ],
   "source": [
    "x = (a + b) ** 2\n",
    "x"
   ]
  },
  {
   "cell_type": "code",
   "execution_count": 21,
   "id": "cb4520f3",
   "metadata": {},
   "outputs": [
    {
     "data": {
      "text/plain": [
       "5.0"
      ]
     },
     "execution_count": 21,
     "metadata": {},
     "output_type": "execute_result"
    }
   ],
   "source": [
    "per = 3\n",
    "base = 4\n",
    "hyp = (per**2 + base**2)**.5  # math.sqrt(per**2 + base**2) will also work\n",
    "hyp"
   ]
  },
  {
   "cell_type": "markdown",
   "id": "f2cff64b",
   "metadata": {},
   "source": [
    "what will the value when x is 10 in \n",
    "`3x + 2(x-1)`"
   ]
  },
  {
   "cell_type": "markdown",
   "id": "dc120a03",
   "metadata": {},
   "source": [
    "what will be the avg when we have these values\n",
    "`2,4,5,6,1,2,5,6`"
   ]
  },
  {
   "cell_type": "markdown",
   "id": "0e8654cc",
   "metadata": {},
   "source": [
    "# comparison operator\n",
    "`< <= > >= == !=`"
   ]
  },
  {
   "cell_type": "code",
   "execution_count": 2,
   "id": "8ebe1628",
   "metadata": {},
   "outputs": [],
   "source": [
    "x = 12\n",
    "y = 23"
   ]
  },
  {
   "cell_type": "code",
   "execution_count": 4,
   "id": "29d40e72",
   "metadata": {},
   "outputs": [],
   "source": [
    "x, y = 13, 24\n",
    "a, b, c = 2, 4, 120"
   ]
  },
  {
   "cell_type": "code",
   "execution_count": 5,
   "id": "cb69053d",
   "metadata": {},
   "outputs": [
    {
     "data": {
      "text/plain": [
       "False"
      ]
     },
     "execution_count": 5,
     "metadata": {},
     "output_type": "execute_result"
    }
   ],
   "source": [
    "x > y # if x is greater than y -> False"
   ]
  },
  {
   "cell_type": "code",
   "execution_count": 8,
   "id": "6497b1b5",
   "metadata": {},
   "outputs": [
    {
     "data": {
      "text/plain": [
       "True"
      ]
     },
     "execution_count": 8,
     "metadata": {},
     "output_type": "execute_result"
    }
   ],
   "source": [
    "x == 13"
   ]
  },
  {
   "cell_type": "code",
   "execution_count": 9,
   "id": "d594f04f",
   "metadata": {},
   "outputs": [
    {
     "data": {
      "text/plain": [
       "True"
      ]
     },
     "execution_count": 9,
     "metadata": {},
     "output_type": "execute_result"
    }
   ],
   "source": [
    "y >= 23"
   ]
  },
  {
   "cell_type": "code",
   "execution_count": 11,
   "id": "7e57d98e",
   "metadata": {},
   "outputs": [
    {
     "data": {
      "text/plain": [
       "True"
      ]
     },
     "execution_count": 11,
     "metadata": {},
     "output_type": "execute_result"
    }
   ],
   "source": [
    "x != y # if x is not equal to y -> True"
   ]
  },
  {
   "cell_type": "code",
   "execution_count": 12,
   "id": "ce9a0fa8",
   "metadata": {},
   "outputs": [
    {
     "data": {
      "text/plain": [
       "True"
      ]
     },
     "execution_count": 12,
     "metadata": {},
     "output_type": "execute_result"
    }
   ],
   "source": [
    "x < 15 < y"
   ]
  },
  {
   "cell_type": "code",
   "execution_count": 15,
   "id": "ed33a461",
   "metadata": {},
   "outputs": [
    {
     "data": {
      "text/plain": [
       "False"
      ]
     },
     "execution_count": 15,
     "metadata": {},
     "output_type": "execute_result"
    }
   ],
   "source": [
    "x = 100\n",
    "1 < x < 100 # if x is in the range of 2 - 99"
   ]
  },
  {
   "cell_type": "code",
   "execution_count": 16,
   "id": "6aceb2bc",
   "metadata": {},
   "outputs": [
    {
     "data": {
      "text/plain": [
       "True"
      ]
     },
     "execution_count": 16,
     "metadata": {},
     "output_type": "execute_result"
    }
   ],
   "source": [
    "x = 100\n",
    "1 <= x <= 100"
   ]
  },
  {
   "cell_type": "markdown",
   "id": "6886500a",
   "metadata": {},
   "source": [
    "### Logical operator\n",
    "`AND OR NOT`"
   ]
  },
  {
   "cell_type": "code",
   "execution_count": 21,
   "id": "96b11f80",
   "metadata": {},
   "outputs": [
    {
     "data": {
      "text/plain": [
       "False"
      ]
     },
     "execution_count": 21,
     "metadata": {},
     "output_type": "execute_result"
    }
   ],
   "source": [
    "x < y and x > a # and is used to evaluate if both expressions are true"
   ]
  },
  {
   "cell_type": "code",
   "execution_count": 22,
   "id": "b36057cd",
   "metadata": {},
   "outputs": [
    {
     "data": {
      "text/plain": [
       "True"
      ]
     },
     "execution_count": 22,
     "metadata": {},
     "output_type": "execute_result"
    }
   ],
   "source": [
    "10 == 5 or 15 == 15 # or checks if any one of expression is true"
   ]
  },
  {
   "cell_type": "code",
   "execution_count": 23,
   "id": "7aba1290",
   "metadata": {},
   "outputs": [
    {
     "data": {
      "text/plain": [
       "True"
      ]
     },
     "execution_count": 23,
     "metadata": {},
     "output_type": "execute_result"
    }
   ],
   "source": [
    "a == 2 or b == 10"
   ]
  },
  {
   "cell_type": "code",
   "execution_count": 25,
   "id": "c9a9b3ec",
   "metadata": {},
   "outputs": [
    {
     "data": {
      "text/plain": [
       "False"
      ]
     },
     "execution_count": 25,
     "metadata": {},
     "output_type": "execute_result"
    }
   ],
   "source": [
    "not a # convert true value to false and vice versa"
   ]
  },
  {
   "cell_type": "code",
   "execution_count": 28,
   "id": "cbc0337e",
   "metadata": {},
   "outputs": [
    {
     "data": {
      "text/plain": [
       "True"
      ]
     },
     "execution_count": 28,
     "metadata": {},
     "output_type": "execute_result"
    }
   ],
   "source": [
    "not (a == 10) # invert the result"
   ]
  }
 ],
 "metadata": {
  "kernelspec": {
   "display_name": "python_things",
   "language": "python",
   "name": "python3"
  },
  "language_info": {
   "codemirror_mode": {
    "name": "ipython",
    "version": 3
   },
   "file_extension": ".py",
   "mimetype": "text/x-python",
   "name": "python",
   "nbconvert_exporter": "python",
   "pygments_lexer": "ipython3",
   "version": "3.13.1"
  }
 },
 "nbformat": 4,
 "nbformat_minor": 5
}

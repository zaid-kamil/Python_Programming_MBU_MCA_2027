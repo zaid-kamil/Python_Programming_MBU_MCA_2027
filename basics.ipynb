{
 "cells": [
  {
   "cell_type": "code",
   "execution_count": 3,
   "id": "898b998a",
   "metadata": {},
   "outputs": [],
   "source": [
    "name = \"Zaid kamil\"\n",
    "city = \"Tirupati\"\n",
    "age = 34\n",
    "pi = 3.1415\n",
    "is_good = True"
   ]
  },
  {
   "cell_type": "markdown",
   "id": "733dd08f",
   "metadata": {},
   "source": [
    "Python has 10 datatypes\n",
    "- int (integer) -> for whole numbers\n",
    "- float -> for real/scientific numbers\n",
    "- complex -> for complex numbers\n",
    "- bool (boolean) -> for True/False values\n",
    "- none (Nonetype) -> for specifying no value\n",
    "- str (String) -> for textual values\n",
    "- list -> for storing arrays and sequences\n",
    "- tuple -> for unchangeable arrays and sequences\n",
    "- set -> for unqiue sequences\n",
    "- dict -> for storing key value data "
   ]
  },
  {
   "cell_type": "code",
   "execution_count": 5,
   "id": "f8c81555",
   "metadata": {},
   "outputs": [],
   "source": [
    "x = 5                                               # int\n",
    "y = 1.5                                             # float\n",
    "z = 10j                                             # complex\n",
    "is_working = False                                  # bool\n",
    "is_empty = None                                     # Nonetype\n",
    "univ = \"Mohan Babu University\"                      # str\n",
    "colors = ['red','pink','orange']                    # list\n",
    "points = (1, 3, 14, 10)                             # tuple\n",
    "names = {\"yashwanth\",'jyosthna','Ajay','Sandhya'}   # set\n",
    "info = {                                            # dictionary\n",
    "    \"name\" : \"Zaid kamil\",\n",
    "    \"designation\" : \"Training Manager\",\n",
    "    \"dept\": \"CDC\"\n",
    "}"
   ]
  },
  {
   "cell_type": "code",
   "execution_count": 1,
   "id": "3105cbf5",
   "metadata": {},
   "outputs": [
    {
     "data": {
      "text/plain": [
       "1750.0"
      ]
     },
     "execution_count": 1,
     "metadata": {},
     "output_type": "execute_result"
    }
   ],
   "source": [
    "p = 10000\n",
    "r = 3.5\n",
    "t = 5\n",
    "si = p * r * t / 100\n",
    "si"
   ]
  },
  {
   "cell_type": "markdown",
   "id": "3814e31a",
   "metadata": {},
   "source": [
    "# 2 types of variable\n",
    "1. Directly initialized\n",
    "`x = 10`\n",
    "2. Dynamically calculated \n",
    "`z = x * 10`"
   ]
  },
  {
   "cell_type": "code",
   "execution_count": 3,
   "id": "4d68d020",
   "metadata": {},
   "outputs": [
    {
     "data": {
      "text/plain": [
       "50.24"
      ]
     },
     "execution_count": 3,
     "metadata": {},
     "output_type": "execute_result"
    }
   ],
   "source": [
    "r = 8   # cm\n",
    "pi = 3.14\n",
    "circumference = 2 * pi * r\n",
    "circumference"
   ]
  },
  {
   "cell_type": "code",
   "execution_count": 6,
   "id": "02d26847",
   "metadata": {},
   "outputs": [
    {
     "data": {
      "text/plain": [
       "50.24"
      ]
     },
     "execution_count": 6,
     "metadata": {},
     "output_type": "execute_result"
    }
   ],
   "source": [
    "circumference"
   ]
  },
  {
   "cell_type": "markdown",
   "id": "f554a3f3",
   "metadata": {},
   "source": [
    "# operators\n",
    "- Assignment operator\n",
    "- Arithmetic operator\n",
    "- Comparison operator\n",
    "- logical operator\n",
    "- bitwise operator\n",
    "- membership operator"
   ]
  },
  {
   "cell_type": "code",
   "execution_count": 9,
   "id": "f0fd9334",
   "metadata": {},
   "outputs": [],
   "source": [
    "a = 10\n",
    "b = 3"
   ]
  },
  {
   "cell_type": "markdown",
   "id": "9bdd29e1",
   "metadata": {},
   "source": [
    "Assignment operators\n",
    "`= += -= /= *= **= //=`"
   ]
  },
  {
   "cell_type": "code",
   "execution_count": 14,
   "id": "48e441e3",
   "metadata": {},
   "outputs": [
    {
     "data": {
      "text/plain": [
       "20"
      ]
     },
     "execution_count": 14,
     "metadata": {},
     "output_type": "execute_result"
    }
   ],
   "source": [
    "a = 10\n",
    "b = a + 5\n",
    "c = b - 10\n",
    "\n",
    "a += 10\n",
    "a"
   ]
  },
  {
   "cell_type": "code",
   "execution_count": 16,
   "id": "fe0d86c9",
   "metadata": {},
   "outputs": [
    {
     "data": {
      "text/plain": [
       "13"
      ]
     },
     "execution_count": 16,
     "metadata": {},
     "output_type": "execute_result"
    }
   ],
   "source": [
    "b -= 2\n",
    "b"
   ]
  },
  {
   "cell_type": "code",
   "execution_count": 18,
   "id": "3e422aa7",
   "metadata": {},
   "outputs": [
    {
     "data": {
      "text/plain": [
       "3"
      ]
     },
     "execution_count": 18,
     "metadata": {},
     "output_type": "execute_result"
    }
   ],
   "source": [
    "b - 10"
   ]
  },
  {
   "cell_type": "code",
   "execution_count": null,
   "id": "03753062",
   "metadata": {},
   "outputs": [
    {
     "data": {
      "text/plain": [
       "3"
      ]
     },
     "execution_count": 20,
     "metadata": {},
     "output_type": "execute_result"
    }
   ],
   "source": [
    "b = b - 10  # b -= 10\n",
    "b"
   ]
  },
  {
   "cell_type": "code",
   "execution_count": 24,
   "id": "d18bc333",
   "metadata": {},
   "outputs": [
    {
     "data": {
      "text/plain": [
       "2500.0"
      ]
     },
     "execution_count": 24,
     "metadata": {},
     "output_type": "execute_result"
    }
   ],
   "source": [
    "x = 1000 # assignment\n",
    "x -= 500  # assingment\n",
    "x *= 10\n",
    "x /= 2\n",
    "x"
   ]
  },
  {
   "cell_type": "code",
   "execution_count": null,
   "id": "8f0f87f5",
   "metadata": {},
   "outputs": [],
   "source": []
  },
  {
   "cell_type": "code",
   "execution_count": 27,
   "id": "2ebe668c",
   "metadata": {},
   "outputs": [],
   "source": [
    "z = 5"
   ]
  },
  {
   "cell_type": "code",
   "execution_count": 28,
   "id": "470b6376",
   "metadata": {},
   "outputs": [
    {
     "data": {
      "text/plain": [
       "2.5"
      ]
     },
     "execution_count": 28,
     "metadata": {},
     "output_type": "execute_result"
    }
   ],
   "source": [
    "x = 1000 # assignment\n",
    "x -= 500  # assingment\n",
    "x *= 10\n",
    "z /= 2\n",
    "z"
   ]
  },
  {
   "cell_type": "code",
   "execution_count": 29,
   "id": "2fd47242",
   "metadata": {},
   "outputs": [
    {
     "data": {
      "text/plain": [
       "5000"
      ]
     },
     "execution_count": 29,
     "metadata": {},
     "output_type": "execute_result"
    }
   ],
   "source": [
    "x"
   ]
  },
  {
   "cell_type": "code",
   "execution_count": null,
   "id": "d8866ecb",
   "metadata": {},
   "outputs": [],
   "source": []
  }
 ],
 "metadata": {
  "kernelspec": {
   "display_name": "python_things",
   "language": "python",
   "name": "python3"
  },
  "language_info": {
   "codemirror_mode": {
    "name": "ipython",
    "version": 3
   },
   "file_extension": ".py",
   "mimetype": "text/x-python",
   "name": "python",
   "nbconvert_exporter": "python",
   "pygments_lexer": "ipython3",
   "version": "3.13.1"
  }
 },
 "nbformat": 4,
 "nbformat_minor": 5
}
